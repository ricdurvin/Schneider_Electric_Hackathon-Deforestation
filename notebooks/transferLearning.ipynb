{
  "nbformat": 4,
  "nbformat_minor": 0,
  "metadata": {
    "colab": {
      "provenance": []
    },
    "kernelspec": {
      "name": "python3",
      "display_name": "Python 3"
    },
    "language_info": {
      "name": "python"
    },
    "accelerator": "GPU",
    "gpuClass": "standard"
  },
  "cells": [
    {
      "cell_type": "markdown",
      "source": [
        "# Schneider Electric Hackathon - Zero Deforestation Mission\n",
        "\n",
        "Deforestation is the permanent removal of standing forests, which occurs for a variety of reasons and has many devastating consequences. It is important to stop deforestation, as soon as possible, before the damage is irreversible.\n",
        "\n",
        "This challenge will consist of using the help of thousands of satellites in space to capture images of the earth's surface in order to detect, as soon as possible, areas in the midst of deforestation and prevent its expansion.\n",
        "\n",
        "This is the Main Jupyter Notebook, which includes how to: \n",
        "1. Clone the repository,\n",
        "2. Load the data,\n",
        "3. Look for Null values,\n",
        "4. Preprocess the data,\n",
        "5. Create the model,\n",
        "6. Train the model,\n",
        "7. Validate the model."
      ],
      "metadata": {
        "id": "gQz2N__2TEh8"
      }
    },
    {
      "cell_type": "markdown",
      "source": [
        "## Clone repository\n",
        "\n",
        "We clone the repository to be able to access the data."
      ],
      "metadata": {
        "id": "Ojzh-p5I90Xs"
      }
    },
    {
      "cell_type": "code",
      "source": [
        "# Public repository\n",
        "# ! git clone https://github.com/{username}/{repo}.git\n",
        "! git clone https://github.com/ricdurvin/Schneider_Electric_Hackathon-Deforestation.git"
      ],
      "metadata": {
        "colab": {
          "base_uri": "https://localhost:8080/"
        },
        "outputId": "3ff71fd5-1bdc-4134-90c2-bba3b60473d2",
        "id": "ACK7xN6H90Xu"
      },
      "execution_count": 1,
      "outputs": [
        {
          "output_type": "stream",
          "name": "stdout",
          "text": [
            "Cloning into 'Schneider_Electric_Hackathon-Deforestation'...\n",
            "remote: Enumerating objects: 2405, done.\u001b[K\n",
            "remote: Counting objects: 100% (49/49), done.\u001b[K\n",
            "remote: Compressing objects: 100% (39/39), done.\u001b[K\n",
            "remote: Total 2405 (delta 16), reused 37 (delta 8), pack-reused 2356\u001b[K\n",
            "Receiving objects: 100% (2405/2405), 309.30 MiB | 16.41 MiB/s, done.\n",
            "Resolving deltas: 100% (16/16), done.\n"
          ]
        }
      ]
    },
    {
      "cell_type": "markdown",
      "source": [
        "Now, we can see the repository in the Google Collab workspace (left panel) and use its files or data"
      ],
      "metadata": {
        "id": "aNhUlbCrZlu3"
      }
    },
    {
      "cell_type": "markdown",
      "source": [
        "## Check GPU configuration\n",
        "\n",
        "We have access via Google Colab to an instance of the GPU. It is important to check the configuration of each Jupyter Notebook to take advantage of the power of the GPU.\n",
        "\n",
        "How to activate the GPU?\n",
        "\n",
        "Go to *Runtime/Change runtime type/Hardware* -> GPU\n",
        "\n",
        "It is not always possible to access GPUs, as we use the free version of Google Colab."
      ],
      "metadata": {
        "id": "-9jTpqvcaPjZ"
      }
    },
    {
      "cell_type": "markdown",
      "source": [
        "By executing the following command we can see which GPU we are using in this environment.\n",
        "\n",
        "**Important**: It may happen that different Google Colab environments use different GPU models, so there may be models with different power."
      ],
      "metadata": {
        "id": "PIRG8NQ5cHXJ"
      }
    },
    {
      "cell_type": "code",
      "source": [
        "!nvidia-smi"
      ],
      "metadata": {
        "colab": {
          "base_uri": "https://localhost:8080/"
        },
        "id": "E-ycQR0gbpNJ",
        "outputId": "59bc7e44-d4f6-4027-fade-7a650e8f0a84"
      },
      "execution_count": 2,
      "outputs": [
        {
          "output_type": "stream",
          "name": "stdout",
          "text": [
            "Sat Nov 19 22:17:28 2022       \n",
            "+-----------------------------------------------------------------------------+\n",
            "| NVIDIA-SMI 460.32.03    Driver Version: 460.32.03    CUDA Version: 11.2     |\n",
            "|-------------------------------+----------------------+----------------------+\n",
            "| GPU  Name        Persistence-M| Bus-Id        Disp.A | Volatile Uncorr. ECC |\n",
            "| Fan  Temp  Perf  Pwr:Usage/Cap|         Memory-Usage | GPU-Util  Compute M. |\n",
            "|                               |                      |               MIG M. |\n",
            "|===============================+======================+======================|\n",
            "|   0  Tesla T4            Off  | 00000000:00:04.0 Off |                    0 |\n",
            "| N/A   40C    P8    10W /  70W |      0MiB / 15109MiB |      0%      Default |\n",
            "|                               |                      |                  N/A |\n",
            "+-------------------------------+----------------------+----------------------+\n",
            "                                                                               \n",
            "+-----------------------------------------------------------------------------+\n",
            "| Processes:                                                                  |\n",
            "|  GPU   GI   CI        PID   Type   Process name                  GPU Memory |\n",
            "|        ID   ID                                                   Usage      |\n",
            "|=============================================================================|\n",
            "|  No running processes found                                                 |\n",
            "+-----------------------------------------------------------------------------+\n"
          ]
        }
      ]
    },
    {
      "cell_type": "markdown",
      "source": [
        "## Install dependencies\n",
        "\n",
        "Despite having Tensorflow installed on Google Colab by default, we upgraded to the latest stable version."
      ],
      "metadata": {
        "id": "o2_ICK52mIdN"
      }
    },
    {
      "cell_type": "code",
      "source": [
        "!pip install tensorflow"
      ],
      "metadata": {
        "colab": {
          "base_uri": "https://localhost:8080/"
        },
        "id": "pCD-YPHphlfE",
        "outputId": "254eda93-8d52-4021-e3bc-781c36a2d75d"
      },
      "execution_count": 3,
      "outputs": [
        {
          "output_type": "stream",
          "name": "stdout",
          "text": [
            "Looking in indexes: https://pypi.org/simple, https://us-python.pkg.dev/colab-wheels/public/simple/\n",
            "Requirement already satisfied: tensorflow in /usr/local/lib/python3.7/dist-packages (2.9.2)\n",
            "Requirement already satisfied: numpy>=1.20 in /usr/local/lib/python3.7/dist-packages (from tensorflow) (1.21.6)\n",
            "Requirement already satisfied: absl-py>=1.0.0 in /usr/local/lib/python3.7/dist-packages (from tensorflow) (1.3.0)\n",
            "Requirement already satisfied: wrapt>=1.11.0 in /usr/local/lib/python3.7/dist-packages (from tensorflow) (1.14.1)\n",
            "Requirement already satisfied: keras-preprocessing>=1.1.1 in /usr/local/lib/python3.7/dist-packages (from tensorflow) (1.1.2)\n",
            "Requirement already satisfied: typing-extensions>=3.6.6 in /usr/local/lib/python3.7/dist-packages (from tensorflow) (4.1.1)\n",
            "Requirement already satisfied: keras<2.10.0,>=2.9.0rc0 in /usr/local/lib/python3.7/dist-packages (from tensorflow) (2.9.0)\n",
            "Requirement already satisfied: google-pasta>=0.1.1 in /usr/local/lib/python3.7/dist-packages (from tensorflow) (0.2.0)\n",
            "Requirement already satisfied: tensorboard<2.10,>=2.9 in /usr/local/lib/python3.7/dist-packages (from tensorflow) (2.9.1)\n",
            "Requirement already satisfied: libclang>=13.0.0 in /usr/local/lib/python3.7/dist-packages (from tensorflow) (14.0.6)\n",
            "Requirement already satisfied: astunparse>=1.6.0 in /usr/local/lib/python3.7/dist-packages (from tensorflow) (1.6.3)\n",
            "Requirement already satisfied: opt-einsum>=2.3.2 in /usr/local/lib/python3.7/dist-packages (from tensorflow) (3.3.0)\n",
            "Requirement already satisfied: flatbuffers<2,>=1.12 in /usr/local/lib/python3.7/dist-packages (from tensorflow) (1.12)\n",
            "Requirement already satisfied: tensorflow-io-gcs-filesystem>=0.23.1 in /usr/local/lib/python3.7/dist-packages (from tensorflow) (0.27.0)\n",
            "Requirement already satisfied: setuptools in /usr/local/lib/python3.7/dist-packages (from tensorflow) (57.4.0)\n",
            "Requirement already satisfied: grpcio<2.0,>=1.24.3 in /usr/local/lib/python3.7/dist-packages (from tensorflow) (1.50.0)\n",
            "Requirement already satisfied: termcolor>=1.1.0 in /usr/local/lib/python3.7/dist-packages (from tensorflow) (2.1.0)\n",
            "Requirement already satisfied: packaging in /usr/local/lib/python3.7/dist-packages (from tensorflow) (21.3)\n",
            "Requirement already satisfied: tensorflow-estimator<2.10.0,>=2.9.0rc0 in /usr/local/lib/python3.7/dist-packages (from tensorflow) (2.9.0)\n",
            "Requirement already satisfied: gast<=0.4.0,>=0.2.1 in /usr/local/lib/python3.7/dist-packages (from tensorflow) (0.4.0)\n",
            "Requirement already satisfied: protobuf<3.20,>=3.9.2 in /usr/local/lib/python3.7/dist-packages (from tensorflow) (3.19.6)\n",
            "Requirement already satisfied: h5py>=2.9.0 in /usr/local/lib/python3.7/dist-packages (from tensorflow) (3.1.0)\n",
            "Requirement already satisfied: six>=1.12.0 in /usr/local/lib/python3.7/dist-packages (from tensorflow) (1.15.0)\n",
            "Requirement already satisfied: wheel<1.0,>=0.23.0 in /usr/local/lib/python3.7/dist-packages (from astunparse>=1.6.0->tensorflow) (0.38.3)\n",
            "Requirement already satisfied: cached-property in /usr/local/lib/python3.7/dist-packages (from h5py>=2.9.0->tensorflow) (1.5.2)\n",
            "Requirement already satisfied: werkzeug>=1.0.1 in /usr/local/lib/python3.7/dist-packages (from tensorboard<2.10,>=2.9->tensorflow) (1.0.1)\n",
            "Requirement already satisfied: markdown>=2.6.8 in /usr/local/lib/python3.7/dist-packages (from tensorboard<2.10,>=2.9->tensorflow) (3.4.1)\n",
            "Requirement already satisfied: tensorboard-plugin-wit>=1.6.0 in /usr/local/lib/python3.7/dist-packages (from tensorboard<2.10,>=2.9->tensorflow) (1.8.1)\n",
            "Requirement already satisfied: tensorboard-data-server<0.7.0,>=0.6.0 in /usr/local/lib/python3.7/dist-packages (from tensorboard<2.10,>=2.9->tensorflow) (0.6.1)\n",
            "Requirement already satisfied: google-auth-oauthlib<0.5,>=0.4.1 in /usr/local/lib/python3.7/dist-packages (from tensorboard<2.10,>=2.9->tensorflow) (0.4.6)\n",
            "Requirement already satisfied: requests<3,>=2.21.0 in /usr/local/lib/python3.7/dist-packages (from tensorboard<2.10,>=2.9->tensorflow) (2.23.0)\n",
            "Requirement already satisfied: google-auth<3,>=1.6.3 in /usr/local/lib/python3.7/dist-packages (from tensorboard<2.10,>=2.9->tensorflow) (2.14.1)\n",
            "Requirement already satisfied: pyasn1-modules>=0.2.1 in /usr/local/lib/python3.7/dist-packages (from google-auth<3,>=1.6.3->tensorboard<2.10,>=2.9->tensorflow) (0.2.8)\n",
            "Requirement already satisfied: rsa<5,>=3.1.4 in /usr/local/lib/python3.7/dist-packages (from google-auth<3,>=1.6.3->tensorboard<2.10,>=2.9->tensorflow) (4.9)\n",
            "Requirement already satisfied: cachetools<6.0,>=2.0.0 in /usr/local/lib/python3.7/dist-packages (from google-auth<3,>=1.6.3->tensorboard<2.10,>=2.9->tensorflow) (5.2.0)\n",
            "Requirement already satisfied: requests-oauthlib>=0.7.0 in /usr/local/lib/python3.7/dist-packages (from google-auth-oauthlib<0.5,>=0.4.1->tensorboard<2.10,>=2.9->tensorflow) (1.3.1)\n",
            "Requirement already satisfied: importlib-metadata>=4.4 in /usr/local/lib/python3.7/dist-packages (from markdown>=2.6.8->tensorboard<2.10,>=2.9->tensorflow) (4.13.0)\n",
            "Requirement already satisfied: zipp>=0.5 in /usr/local/lib/python3.7/dist-packages (from importlib-metadata>=4.4->markdown>=2.6.8->tensorboard<2.10,>=2.9->tensorflow) (3.10.0)\n",
            "Requirement already satisfied: pyasn1<0.5.0,>=0.4.6 in /usr/local/lib/python3.7/dist-packages (from pyasn1-modules>=0.2.1->google-auth<3,>=1.6.3->tensorboard<2.10,>=2.9->tensorflow) (0.4.8)\n",
            "Requirement already satisfied: chardet<4,>=3.0.2 in /usr/local/lib/python3.7/dist-packages (from requests<3,>=2.21.0->tensorboard<2.10,>=2.9->tensorflow) (3.0.4)\n",
            "Requirement already satisfied: urllib3!=1.25.0,!=1.25.1,<1.26,>=1.21.1 in /usr/local/lib/python3.7/dist-packages (from requests<3,>=2.21.0->tensorboard<2.10,>=2.9->tensorflow) (1.24.3)\n",
            "Requirement already satisfied: certifi>=2017.4.17 in /usr/local/lib/python3.7/dist-packages (from requests<3,>=2.21.0->tensorboard<2.10,>=2.9->tensorflow) (2022.9.24)\n",
            "Requirement already satisfied: idna<3,>=2.5 in /usr/local/lib/python3.7/dist-packages (from requests<3,>=2.21.0->tensorboard<2.10,>=2.9->tensorflow) (2.10)\n",
            "Requirement already satisfied: oauthlib>=3.0.0 in /usr/local/lib/python3.7/dist-packages (from requests-oauthlib>=0.7.0->google-auth-oauthlib<0.5,>=0.4.1->tensorboard<2.10,>=2.9->tensorflow) (3.2.2)\n",
            "Requirement already satisfied: pyparsing!=3.0.5,>=2.0.2 in /usr/local/lib/python3.7/dist-packages (from packaging->tensorflow) (3.0.9)\n"
          ]
        }
      ]
    },
    {
      "cell_type": "markdown",
      "source": [
        "## Import libraries\n",
        "\n",
        "It is good practice to import all dependencies at the beginning of Jupyter Notebok (after cloning the repository and installing the dependencies)."
      ],
      "metadata": {
        "id": "esFZKJZamSVg"
      }
    },
    {
      "cell_type": "code",
      "source": [
        "import pandas as pd\n",
        "import tensorflow as tf\n",
        "from keras import layers\n",
        "from keras.callbacks import ModelCheckpoint\n",
        "\n",
        "import numpy as np\n",
        "import matplotlib.pyplot as plt\n",
        "import cv2 as cv\n",
        "import os\n",
        "from sklearn.model_selection import train_test_split\n",
        "\n",
        "from sklearn.metrics import f1_score, precision_score, recall_score, confusion_matrix, classification_report"
      ],
      "metadata": {
        "id": "2zkP7hTJmmgg"
      },
      "execution_count": 4,
      "outputs": []
    },
    {
      "cell_type": "code",
      "source": [
        "# Check tensorflow version\n",
        "tf. __version__"
      ],
      "metadata": {
        "colab": {
          "base_uri": "https://localhost:8080/",
          "height": 35
        },
        "id": "rTV6uK4FnvrI",
        "outputId": "45408089-906d-4283-e8d6-cd7516bb621c"
      },
      "execution_count": 5,
      "outputs": [
        {
          "output_type": "execute_result",
          "data": {
            "text/plain": [
              "'2.9.2'"
            ],
            "application/vnd.google.colaboratory.intrinsic+json": {
              "type": "string"
            }
          },
          "metadata": {},
          "execution_count": 5
        }
      ]
    },
    {
      "cell_type": "code",
      "source": [
        "%cd /content/Schneider_Electric_Hackathon-Deforestation"
      ],
      "metadata": {
        "colab": {
          "base_uri": "https://localhost:8080/"
        },
        "id": "UCctUPDlxIY3",
        "outputId": "52622872-415f-4176-ed6f-9a050bbb948b"
      },
      "execution_count": 6,
      "outputs": [
        {
          "output_type": "stream",
          "name": "stdout",
          "text": [
            "/content/Schneider_Electric_Hackathon-Deforestation\n"
          ]
        }
      ]
    },
    {
      "cell_type": "markdown",
      "source": [
        "## Loading data\n",
        "\n",
        "We load the data. First we load the information from the csven files into some pandas DataFrames. The paths to the images are in one of the columns of this DataFrames."
      ],
      "metadata": {
        "id": "g3vhp7lJk3xf"
      }
    },
    {
      "cell_type": "code",
      "source": [
        "train_df = pd.read_csv('data/train.csv')\n",
        "test_df = pd.read_csv('data/test.csv')"
      ],
      "metadata": {
        "id": "NZWh_4oAxCnV"
      },
      "execution_count": 7,
      "outputs": []
    },
    {
      "cell_type": "code",
      "source": [
        "train_df"
      ],
      "metadata": {
        "colab": {
          "base_uri": "https://localhost:8080/",
          "height": 424
        },
        "id": "1YnjPvegxoqu",
        "outputId": "d101bfa6-9be2-4887-8108-d91a8a4db7b1"
      },
      "execution_count": 8,
      "outputs": [
        {
          "output_type": "execute_result",
          "data": {
            "text/plain": [
              "      label  latitude   longitude  year                    example_path\n",
              "0         0 -2.051853  111.826093  2001  train_test_data/train/1297.png\n",
              "1         2 -1.989349  105.309496  2013  train_test_data/train/1199.png\n",
              "2         0  1.223256  100.702217  2014  train_test_data/train/1348.png\n",
              "3         0 -2.342948  103.890226  2008  train_test_data/train/2214.png\n",
              "4         0 -0.126555  101.758175  2011  train_test_data/train/2220.png\n",
              "...     ...       ...         ...   ...                             ...\n",
              "1709      0  3.819464  117.636112  2016   train_test_data/train/550.png\n",
              "1710      0 -1.809594  111.531951  2005  train_test_data/train/2264.png\n",
              "1711      1  0.443397  112.200163  2012  train_test_data/train/1486.png\n",
              "1712      2 -1.978349  101.970148  2012  train_test_data/train/1170.png\n",
              "1713      2  0.780981  123.368557  2013   train_test_data/train/273.png\n",
              "\n",
              "[1714 rows x 5 columns]"
            ],
            "text/html": [
              "\n",
              "  <div id=\"df-eebcc213-c5d5-4fdf-b649-94337ef798a8\">\n",
              "    <div class=\"colab-df-container\">\n",
              "      <div>\n",
              "<style scoped>\n",
              "    .dataframe tbody tr th:only-of-type {\n",
              "        vertical-align: middle;\n",
              "    }\n",
              "\n",
              "    .dataframe tbody tr th {\n",
              "        vertical-align: top;\n",
              "    }\n",
              "\n",
              "    .dataframe thead th {\n",
              "        text-align: right;\n",
              "    }\n",
              "</style>\n",
              "<table border=\"1\" class=\"dataframe\">\n",
              "  <thead>\n",
              "    <tr style=\"text-align: right;\">\n",
              "      <th></th>\n",
              "      <th>label</th>\n",
              "      <th>latitude</th>\n",
              "      <th>longitude</th>\n",
              "      <th>year</th>\n",
              "      <th>example_path</th>\n",
              "    </tr>\n",
              "  </thead>\n",
              "  <tbody>\n",
              "    <tr>\n",
              "      <th>0</th>\n",
              "      <td>0</td>\n",
              "      <td>-2.051853</td>\n",
              "      <td>111.826093</td>\n",
              "      <td>2001</td>\n",
              "      <td>train_test_data/train/1297.png</td>\n",
              "    </tr>\n",
              "    <tr>\n",
              "      <th>1</th>\n",
              "      <td>2</td>\n",
              "      <td>-1.989349</td>\n",
              "      <td>105.309496</td>\n",
              "      <td>2013</td>\n",
              "      <td>train_test_data/train/1199.png</td>\n",
              "    </tr>\n",
              "    <tr>\n",
              "      <th>2</th>\n",
              "      <td>0</td>\n",
              "      <td>1.223256</td>\n",
              "      <td>100.702217</td>\n",
              "      <td>2014</td>\n",
              "      <td>train_test_data/train/1348.png</td>\n",
              "    </tr>\n",
              "    <tr>\n",
              "      <th>3</th>\n",
              "      <td>0</td>\n",
              "      <td>-2.342948</td>\n",
              "      <td>103.890226</td>\n",
              "      <td>2008</td>\n",
              "      <td>train_test_data/train/2214.png</td>\n",
              "    </tr>\n",
              "    <tr>\n",
              "      <th>4</th>\n",
              "      <td>0</td>\n",
              "      <td>-0.126555</td>\n",
              "      <td>101.758175</td>\n",
              "      <td>2011</td>\n",
              "      <td>train_test_data/train/2220.png</td>\n",
              "    </tr>\n",
              "    <tr>\n",
              "      <th>...</th>\n",
              "      <td>...</td>\n",
              "      <td>...</td>\n",
              "      <td>...</td>\n",
              "      <td>...</td>\n",
              "      <td>...</td>\n",
              "    </tr>\n",
              "    <tr>\n",
              "      <th>1709</th>\n",
              "      <td>0</td>\n",
              "      <td>3.819464</td>\n",
              "      <td>117.636112</td>\n",
              "      <td>2016</td>\n",
              "      <td>train_test_data/train/550.png</td>\n",
              "    </tr>\n",
              "    <tr>\n",
              "      <th>1710</th>\n",
              "      <td>0</td>\n",
              "      <td>-1.809594</td>\n",
              "      <td>111.531951</td>\n",
              "      <td>2005</td>\n",
              "      <td>train_test_data/train/2264.png</td>\n",
              "    </tr>\n",
              "    <tr>\n",
              "      <th>1711</th>\n",
              "      <td>1</td>\n",
              "      <td>0.443397</td>\n",
              "      <td>112.200163</td>\n",
              "      <td>2012</td>\n",
              "      <td>train_test_data/train/1486.png</td>\n",
              "    </tr>\n",
              "    <tr>\n",
              "      <th>1712</th>\n",
              "      <td>2</td>\n",
              "      <td>-1.978349</td>\n",
              "      <td>101.970148</td>\n",
              "      <td>2012</td>\n",
              "      <td>train_test_data/train/1170.png</td>\n",
              "    </tr>\n",
              "    <tr>\n",
              "      <th>1713</th>\n",
              "      <td>2</td>\n",
              "      <td>0.780981</td>\n",
              "      <td>123.368557</td>\n",
              "      <td>2013</td>\n",
              "      <td>train_test_data/train/273.png</td>\n",
              "    </tr>\n",
              "  </tbody>\n",
              "</table>\n",
              "<p>1714 rows × 5 columns</p>\n",
              "</div>\n",
              "      <button class=\"colab-df-convert\" onclick=\"convertToInteractive('df-eebcc213-c5d5-4fdf-b649-94337ef798a8')\"\n",
              "              title=\"Convert this dataframe to an interactive table.\"\n",
              "              style=\"display:none;\">\n",
              "        \n",
              "  <svg xmlns=\"http://www.w3.org/2000/svg\" height=\"24px\"viewBox=\"0 0 24 24\"\n",
              "       width=\"24px\">\n",
              "    <path d=\"M0 0h24v24H0V0z\" fill=\"none\"/>\n",
              "    <path d=\"M18.56 5.44l.94 2.06.94-2.06 2.06-.94-2.06-.94-.94-2.06-.94 2.06-2.06.94zm-11 1L8.5 8.5l.94-2.06 2.06-.94-2.06-.94L8.5 2.5l-.94 2.06-2.06.94zm10 10l.94 2.06.94-2.06 2.06-.94-2.06-.94-.94-2.06-.94 2.06-2.06.94z\"/><path d=\"M17.41 7.96l-1.37-1.37c-.4-.4-.92-.59-1.43-.59-.52 0-1.04.2-1.43.59L10.3 9.45l-7.72 7.72c-.78.78-.78 2.05 0 2.83L4 21.41c.39.39.9.59 1.41.59.51 0 1.02-.2 1.41-.59l7.78-7.78 2.81-2.81c.8-.78.8-2.07 0-2.86zM5.41 20L4 18.59l7.72-7.72 1.47 1.35L5.41 20z\"/>\n",
              "  </svg>\n",
              "      </button>\n",
              "      \n",
              "  <style>\n",
              "    .colab-df-container {\n",
              "      display:flex;\n",
              "      flex-wrap:wrap;\n",
              "      gap: 12px;\n",
              "    }\n",
              "\n",
              "    .colab-df-convert {\n",
              "      background-color: #E8F0FE;\n",
              "      border: none;\n",
              "      border-radius: 50%;\n",
              "      cursor: pointer;\n",
              "      display: none;\n",
              "      fill: #1967D2;\n",
              "      height: 32px;\n",
              "      padding: 0 0 0 0;\n",
              "      width: 32px;\n",
              "    }\n",
              "\n",
              "    .colab-df-convert:hover {\n",
              "      background-color: #E2EBFA;\n",
              "      box-shadow: 0px 1px 2px rgba(60, 64, 67, 0.3), 0px 1px 3px 1px rgba(60, 64, 67, 0.15);\n",
              "      fill: #174EA6;\n",
              "    }\n",
              "\n",
              "    [theme=dark] .colab-df-convert {\n",
              "      background-color: #3B4455;\n",
              "      fill: #D2E3FC;\n",
              "    }\n",
              "\n",
              "    [theme=dark] .colab-df-convert:hover {\n",
              "      background-color: #434B5C;\n",
              "      box-shadow: 0px 1px 3px 1px rgba(0, 0, 0, 0.15);\n",
              "      filter: drop-shadow(0px 1px 2px rgba(0, 0, 0, 0.3));\n",
              "      fill: #FFFFFF;\n",
              "    }\n",
              "  </style>\n",
              "\n",
              "      <script>\n",
              "        const buttonEl =\n",
              "          document.querySelector('#df-eebcc213-c5d5-4fdf-b649-94337ef798a8 button.colab-df-convert');\n",
              "        buttonEl.style.display =\n",
              "          google.colab.kernel.accessAllowed ? 'block' : 'none';\n",
              "\n",
              "        async function convertToInteractive(key) {\n",
              "          const element = document.querySelector('#df-eebcc213-c5d5-4fdf-b649-94337ef798a8');\n",
              "          const dataTable =\n",
              "            await google.colab.kernel.invokeFunction('convertToInteractive',\n",
              "                                                     [key], {});\n",
              "          if (!dataTable) return;\n",
              "\n",
              "          const docLinkHtml = 'Like what you see? Visit the ' +\n",
              "            '<a target=\"_blank\" href=https://colab.research.google.com/notebooks/data_table.ipynb>data table notebook</a>'\n",
              "            + ' to learn more about interactive tables.';\n",
              "          element.innerHTML = '';\n",
              "          dataTable['output_type'] = 'display_data';\n",
              "          await google.colab.output.renderOutput(dataTable, element);\n",
              "          const docLink = document.createElement('div');\n",
              "          docLink.innerHTML = docLinkHtml;\n",
              "          element.appendChild(docLink);\n",
              "        }\n",
              "      </script>\n",
              "    </div>\n",
              "  </div>\n",
              "  "
            ]
          },
          "metadata": {},
          "execution_count": 8
        }
      ]
    },
    {
      "cell_type": "code",
      "source": [
        "test_df"
      ],
      "metadata": {
        "colab": {
          "base_uri": "https://localhost:8080/",
          "height": 424
        },
        "id": "Vm8C3LXJxqV-",
        "outputId": "24e37d69-a608-4a29-a94f-f55d2ef67c8f"
      },
      "execution_count": 9,
      "outputs": [
        {
          "output_type": "execute_result",
          "data": {
            "text/plain": [
              "     latitude   longitude  year                   example_path\n",
              "0    0.761681  122.755954  2006    train_test_data/test/69.png\n",
              "1   -8.059785  113.053791  2007   train_test_data/test/469.png\n",
              "2   -2.006610  111.746316  2002     train_test_data/test/6.png\n",
              "3    0.901765  114.042495  2016   train_test_data/test/351.png\n",
              "4    1.911210  100.829633  2008  train_test_data/test/1001.png\n",
              "..        ...         ...   ...                            ...\n",
              "630  1.650899  101.314723  2011   train_test_data/test/968.png\n",
              "631 -1.645649  102.612332  2010    train_test_data/test/54.png\n",
              "632 -0.557796  114.561609  2016   train_test_data/test/494.png\n",
              "633 -3.037549  113.872045  2009   train_test_data/test/287.png\n",
              "634 -0.724728  102.432386  2009   train_test_data/test/603.png\n",
              "\n",
              "[635 rows x 4 columns]"
            ],
            "text/html": [
              "\n",
              "  <div id=\"df-fe6375b7-37c8-4066-8ba6-33e7ac064287\">\n",
              "    <div class=\"colab-df-container\">\n",
              "      <div>\n",
              "<style scoped>\n",
              "    .dataframe tbody tr th:only-of-type {\n",
              "        vertical-align: middle;\n",
              "    }\n",
              "\n",
              "    .dataframe tbody tr th {\n",
              "        vertical-align: top;\n",
              "    }\n",
              "\n",
              "    .dataframe thead th {\n",
              "        text-align: right;\n",
              "    }\n",
              "</style>\n",
              "<table border=\"1\" class=\"dataframe\">\n",
              "  <thead>\n",
              "    <tr style=\"text-align: right;\">\n",
              "      <th></th>\n",
              "      <th>latitude</th>\n",
              "      <th>longitude</th>\n",
              "      <th>year</th>\n",
              "      <th>example_path</th>\n",
              "    </tr>\n",
              "  </thead>\n",
              "  <tbody>\n",
              "    <tr>\n",
              "      <th>0</th>\n",
              "      <td>0.761681</td>\n",
              "      <td>122.755954</td>\n",
              "      <td>2006</td>\n",
              "      <td>train_test_data/test/69.png</td>\n",
              "    </tr>\n",
              "    <tr>\n",
              "      <th>1</th>\n",
              "      <td>-8.059785</td>\n",
              "      <td>113.053791</td>\n",
              "      <td>2007</td>\n",
              "      <td>train_test_data/test/469.png</td>\n",
              "    </tr>\n",
              "    <tr>\n",
              "      <th>2</th>\n",
              "      <td>-2.006610</td>\n",
              "      <td>111.746316</td>\n",
              "      <td>2002</td>\n",
              "      <td>train_test_data/test/6.png</td>\n",
              "    </tr>\n",
              "    <tr>\n",
              "      <th>3</th>\n",
              "      <td>0.901765</td>\n",
              "      <td>114.042495</td>\n",
              "      <td>2016</td>\n",
              "      <td>train_test_data/test/351.png</td>\n",
              "    </tr>\n",
              "    <tr>\n",
              "      <th>4</th>\n",
              "      <td>1.911210</td>\n",
              "      <td>100.829633</td>\n",
              "      <td>2008</td>\n",
              "      <td>train_test_data/test/1001.png</td>\n",
              "    </tr>\n",
              "    <tr>\n",
              "      <th>...</th>\n",
              "      <td>...</td>\n",
              "      <td>...</td>\n",
              "      <td>...</td>\n",
              "      <td>...</td>\n",
              "    </tr>\n",
              "    <tr>\n",
              "      <th>630</th>\n",
              "      <td>1.650899</td>\n",
              "      <td>101.314723</td>\n",
              "      <td>2011</td>\n",
              "      <td>train_test_data/test/968.png</td>\n",
              "    </tr>\n",
              "    <tr>\n",
              "      <th>631</th>\n",
              "      <td>-1.645649</td>\n",
              "      <td>102.612332</td>\n",
              "      <td>2010</td>\n",
              "      <td>train_test_data/test/54.png</td>\n",
              "    </tr>\n",
              "    <tr>\n",
              "      <th>632</th>\n",
              "      <td>-0.557796</td>\n",
              "      <td>114.561609</td>\n",
              "      <td>2016</td>\n",
              "      <td>train_test_data/test/494.png</td>\n",
              "    </tr>\n",
              "    <tr>\n",
              "      <th>633</th>\n",
              "      <td>-3.037549</td>\n",
              "      <td>113.872045</td>\n",
              "      <td>2009</td>\n",
              "      <td>train_test_data/test/287.png</td>\n",
              "    </tr>\n",
              "    <tr>\n",
              "      <th>634</th>\n",
              "      <td>-0.724728</td>\n",
              "      <td>102.432386</td>\n",
              "      <td>2009</td>\n",
              "      <td>train_test_data/test/603.png</td>\n",
              "    </tr>\n",
              "  </tbody>\n",
              "</table>\n",
              "<p>635 rows × 4 columns</p>\n",
              "</div>\n",
              "      <button class=\"colab-df-convert\" onclick=\"convertToInteractive('df-fe6375b7-37c8-4066-8ba6-33e7ac064287')\"\n",
              "              title=\"Convert this dataframe to an interactive table.\"\n",
              "              style=\"display:none;\">\n",
              "        \n",
              "  <svg xmlns=\"http://www.w3.org/2000/svg\" height=\"24px\"viewBox=\"0 0 24 24\"\n",
              "       width=\"24px\">\n",
              "    <path d=\"M0 0h24v24H0V0z\" fill=\"none\"/>\n",
              "    <path d=\"M18.56 5.44l.94 2.06.94-2.06 2.06-.94-2.06-.94-.94-2.06-.94 2.06-2.06.94zm-11 1L8.5 8.5l.94-2.06 2.06-.94-2.06-.94L8.5 2.5l-.94 2.06-2.06.94zm10 10l.94 2.06.94-2.06 2.06-.94-2.06-.94-.94-2.06-.94 2.06-2.06.94z\"/><path d=\"M17.41 7.96l-1.37-1.37c-.4-.4-.92-.59-1.43-.59-.52 0-1.04.2-1.43.59L10.3 9.45l-7.72 7.72c-.78.78-.78 2.05 0 2.83L4 21.41c.39.39.9.59 1.41.59.51 0 1.02-.2 1.41-.59l7.78-7.78 2.81-2.81c.8-.78.8-2.07 0-2.86zM5.41 20L4 18.59l7.72-7.72 1.47 1.35L5.41 20z\"/>\n",
              "  </svg>\n",
              "      </button>\n",
              "      \n",
              "  <style>\n",
              "    .colab-df-container {\n",
              "      display:flex;\n",
              "      flex-wrap:wrap;\n",
              "      gap: 12px;\n",
              "    }\n",
              "\n",
              "    .colab-df-convert {\n",
              "      background-color: #E8F0FE;\n",
              "      border: none;\n",
              "      border-radius: 50%;\n",
              "      cursor: pointer;\n",
              "      display: none;\n",
              "      fill: #1967D2;\n",
              "      height: 32px;\n",
              "      padding: 0 0 0 0;\n",
              "      width: 32px;\n",
              "    }\n",
              "\n",
              "    .colab-df-convert:hover {\n",
              "      background-color: #E2EBFA;\n",
              "      box-shadow: 0px 1px 2px rgba(60, 64, 67, 0.3), 0px 1px 3px 1px rgba(60, 64, 67, 0.15);\n",
              "      fill: #174EA6;\n",
              "    }\n",
              "\n",
              "    [theme=dark] .colab-df-convert {\n",
              "      background-color: #3B4455;\n",
              "      fill: #D2E3FC;\n",
              "    }\n",
              "\n",
              "    [theme=dark] .colab-df-convert:hover {\n",
              "      background-color: #434B5C;\n",
              "      box-shadow: 0px 1px 3px 1px rgba(0, 0, 0, 0.15);\n",
              "      filter: drop-shadow(0px 1px 2px rgba(0, 0, 0, 0.3));\n",
              "      fill: #FFFFFF;\n",
              "    }\n",
              "  </style>\n",
              "\n",
              "      <script>\n",
              "        const buttonEl =\n",
              "          document.querySelector('#df-fe6375b7-37c8-4066-8ba6-33e7ac064287 button.colab-df-convert');\n",
              "        buttonEl.style.display =\n",
              "          google.colab.kernel.accessAllowed ? 'block' : 'none';\n",
              "\n",
              "        async function convertToInteractive(key) {\n",
              "          const element = document.querySelector('#df-fe6375b7-37c8-4066-8ba6-33e7ac064287');\n",
              "          const dataTable =\n",
              "            await google.colab.kernel.invokeFunction('convertToInteractive',\n",
              "                                                     [key], {});\n",
              "          if (!dataTable) return;\n",
              "\n",
              "          const docLinkHtml = 'Like what you see? Visit the ' +\n",
              "            '<a target=\"_blank\" href=https://colab.research.google.com/notebooks/data_table.ipynb>data table notebook</a>'\n",
              "            + ' to learn more about interactive tables.';\n",
              "          element.innerHTML = '';\n",
              "          dataTable['output_type'] = 'display_data';\n",
              "          await google.colab.output.renderOutput(dataTable, element);\n",
              "          const docLink = document.createElement('div');\n",
              "          docLink.innerHTML = docLinkHtml;\n",
              "          element.appendChild(docLink);\n",
              "        }\n",
              "      </script>\n",
              "    </div>\n",
              "  </div>\n",
              "  "
            ]
          },
          "metadata": {},
          "execution_count": 9
        }
      ]
    },
    {
      "cell_type": "markdown",
      "source": [
        "### Loading images\n",
        "\n",
        "We load the images into NumPy arrays"
      ],
      "metadata": {
        "id": "jSFEP0Uct2sm"
      }
    },
    {
      "cell_type": "code",
      "source": [
        "# Path to training images\n",
        "img_path_train = train_df['example_path']\n",
        "# Accesing all to training data\n",
        "x_train = []\n",
        "# Reading all images\n",
        "for i in img_path_train:\n",
        "    img = cv.imread(os.path.join('data',i))\n",
        "    if img is not None:\n",
        "        x_train.append(img)\n",
        "        \n",
        "# Converting the type from list to NumPy array\n",
        "x_train = np.array(x_train)"
      ],
      "metadata": {
        "id": "U0cQIa6E-QRH"
      },
      "execution_count": 10,
      "outputs": []
    },
    {
      "cell_type": "code",
      "source": [
        "# Accesing all to testing data\n",
        "# Path to all images\n",
        "img_path_test = test_df['example_path']\n",
        "x_test = []\n",
        "# Reading all images\n",
        "for i in img_path_test:\n",
        "    img = cv.imread(os.path.join('data',i))\n",
        "    if img is not None:\n",
        "        x_test.append(img)\n",
        "        \n",
        "# Converting the type from list to NumPy array\n",
        "x_test = np.array(x_test)"
      ],
      "metadata": {
        "id": "6lYD2TXm-QRI"
      },
      "execution_count": 11,
      "outputs": []
    },
    {
      "cell_type": "code",
      "source": [
        "# Accesing to an image\n",
        "img0 = cv.imread(os.path.join('data',img_path_train[0]))\n",
        "plt.imshow(img0)"
      ],
      "metadata": {
        "colab": {
          "base_uri": "https://localhost:8080/",
          "height": 286
        },
        "outputId": "711f3b59-9de5-4339-9b6d-d9e9e85e4652",
        "id": "oWOrvbs8-QRJ"
      },
      "execution_count": 12,
      "outputs": [
        {
          "output_type": "execute_result",
          "data": {
            "text/plain": [
              "<matplotlib.image.AxesImage at 0x7fc160d58a50>"
            ]
          },
          "metadata": {},
          "execution_count": 12
        },
        {
          "output_type": "display_data",
          "data": {
            "text/plain": [
              "<Figure size 432x288 with 1 Axes>"
            ],
            "image/png": "[encoded data removed]"
          },
          "metadata": {
            "needs_background": "light"
          }
        }
      ]
    },
    {
      "cell_type": "markdown",
      "source": [
        "## Looking for Null Values.\n",
        "\n",
        "It is important to check the existance of NaN values on each of the features DataFrames. \n",
        "- By using the method .isnull() we evaluate each object in the DataFrame and provide a boolean value indicating if the data is missing or not.\n",
        "- By using the method .sum() we determine how many missing values exist in the collection."
      ],
      "metadata": {
        "id": "AxxZgHdfxvHe"
      }
    },
    {
      "cell_type": "code",
      "source": [
        "train_df.isnull().sum()"
      ],
      "metadata": {
        "colab": {
          "base_uri": "https://localhost:8080/"
        },
        "id": "Of6KBW0fxyT8",
        "outputId": "dda365eb-2383-4a6f-93bf-ec7f0c063f30"
      },
      "execution_count": 13,
      "outputs": [
        {
          "output_type": "execute_result",
          "data": {
            "text/plain": [
              "label           0\n",
              "latitude        0\n",
              "longitude       0\n",
              "year            0\n",
              "example_path    0\n",
              "dtype: int64"
            ]
          },
          "metadata": {},
          "execution_count": 13
        }
      ]
    },
    {
      "cell_type": "code",
      "source": [
        "test_df.isnull().sum()"
      ],
      "metadata": {
        "colab": {
          "base_uri": "https://localhost:8080/"
        },
        "id": "ynDNZ2b9x0KK",
        "outputId": "e936d212-3bc6-41a1-9f56-50886e8c1533"
      },
      "execution_count": 14,
      "outputs": [
        {
          "output_type": "execute_result",
          "data": {
            "text/plain": [
              "latitude        0\n",
              "longitude       0\n",
              "year            0\n",
              "example_path    0\n",
              "dtype: int64"
            ]
          },
          "metadata": {},
          "execution_count": 14
        }
      ]
    },
    {
      "cell_type": "markdown",
      "source": [
        "As we can appreciate, there are no missing values in any of the features DataFrames, therefore we can continue with the next section."
      ],
      "metadata": {
        "id": "bHdFC6k3x2bQ"
      }
    },
    {
      "cell_type": "markdown",
      "source": [
        "## Preprocessing data\n",
        "\n",
        "In this section we will explore the different characteristics of the given dataset."
      ],
      "metadata": {
        "id": "rW0_lAgOk5sQ"
      }
    },
    {
      "cell_type": "code",
      "source": [
        "# Shape of the dataset\n",
        "print(f\"x_train shape: {x_train.shape}\")\n",
        "print(f\"x_test shape: {x_test.shape}\")\n",
        "# Min and Max Values of the pixels\n",
        "print(f\"Min pixel value: {x_train.min()}; Max pixel value: {x_train.max()}\")"
      ],
      "metadata": {
        "colab": {
          "base_uri": "https://localhost:8080/"
        },
        "id": "X0bKayLnyfNm",
        "outputId": "e7339a7f-ff8c-462b-c633-7ff21dfb5b02"
      },
      "execution_count": 15,
      "outputs": [
        {
          "output_type": "stream",
          "name": "stdout",
          "text": [
            "x_train shape: (1714, 332, 332, 3)\n",
            "x_test shape: (635, 332, 332, 3)\n",
            "Min pixel value: 0; Max pixel value: 255\n"
          ]
        }
      ]
    },
    {
      "cell_type": "code",
      "source": [
        "# Creating labels array\n",
        "y_train = train_df['label']\n",
        "n_categories = y_train.nunique()\n",
        "print(y_train)\n",
        "print(\"Number of categories: \" + str(n_categories))"
      ],
      "metadata": {
        "colab": {
          "base_uri": "https://localhost:8080/"
        },
        "id": "GSgyQycCyuLn",
        "outputId": "b0752e1a-e8bf-4e14-fa92-73de163c302f"
      },
      "execution_count": 16,
      "outputs": [
        {
          "output_type": "stream",
          "name": "stdout",
          "text": [
            "0       0\n",
            "1       2\n",
            "2       0\n",
            "3       0\n",
            "4       0\n",
            "       ..\n",
            "1709    0\n",
            "1710    0\n",
            "1711    1\n",
            "1712    2\n",
            "1713    2\n",
            "Name: label, Length: 1714, dtype: int64\n",
            "Number of categories: 3\n"
          ]
        }
      ]
    },
    {
      "cell_type": "markdown",
      "source": [
        "We split the training set into two subsets, one for model training and one for validation:"
      ],
      "metadata": {
        "id": "CDTa92eQ-dZl"
      }
    },
    {
      "cell_type": "code",
      "source": [
        "# Split the data into train/validation dataset\n",
        "X_train, X_valid, y_train, y_valid = train_test_split(x_train, y_train, test_size = 0.20)"
      ],
      "metadata": {
        "id": "qxBaPFMG05CX"
      },
      "execution_count": 17,
      "outputs": []
    },
    {
      "cell_type": "markdown",
      "source": [
        "## Check balance data\n",
        "\n",
        "We check if the training labels are balanced on the problem."
      ],
      "metadata": {
        "id": "6M8LRXBjR4zu"
      }
    },
    {
      "cell_type": "code",
      "source": [
        "#get unique values and counts of each value\n",
        "unique, counts = np.unique(y_train, return_counts=True)\n",
        "print(f\"Unique: {unique}\")\n",
        "print(f\"Counts: {counts}\")"
      ],
      "metadata": {
        "colab": {
          "base_uri": "https://localhost:8080/"
        },
        "id": "4qLsYFXvR72j",
        "outputId": "390641b3-2462-4334-a597-bc7dff94c7dd"
      },
      "execution_count": 18,
      "outputs": [
        {
          "output_type": "stream",
          "name": "stdout",
          "text": [
            "Unique: [0 1 2]\n",
            "Counts: [682 158 531]\n"
          ]
        }
      ]
    },
    {
      "cell_type": "markdown",
      "source": [
        "As we can see, the class with value 1 has far fewer samples than the rest of the classes.\n",
        "\n",
        "To address this problem, we will establish weights for each of the categories, which will be taken into account when training the model.\n",
        "\n",
        "These weightings shall be made according to the proportion of each of the categories."
      ],
      "metadata": {
        "id": "ZAvLIfGg-lhu"
      }
    },
    {
      "cell_type": "code",
      "source": [
        "label0 = np.count_nonzero(y_train==0)\n",
        "label1 = np.count_nonzero(y_train==1)\n",
        "label2 = np.count_nonzero(y_train==2)\n",
        "\n",
        "total = label0 + label1 + label2\n",
        "print('Examples:\\n    Total: {}\\n    Label 1: {} ({:.2f}% of total)\\n'.format(\n",
        "    total, label1, 100 * label1 / total))"
      ],
      "metadata": {
        "colab": {
          "base_uri": "https://localhost:8080/"
        },
        "id": "aaBIir5eTSec",
        "outputId": "126a1e27-dc12-4bd6-a485-e44a3fddf19d"
      },
      "execution_count": 19,
      "outputs": [
        {
          "output_type": "stream",
          "name": "stdout",
          "text": [
            "Examples:\n",
            "    Total: 1371\n",
            "    Label 1: 158 (11.52% of total)\n",
            "\n"
          ]
        }
      ]
    },
    {
      "cell_type": "code",
      "source": [
        "# Scaling by total/2 helps keep the loss to a similar magnitude.\n",
        "# The sum of the weights of all examples stays the same.\n",
        "weight_for_0 = (1 / label0) * (total / 2.0)\n",
        "weight_for_1 = (1 / label1) * (total / 2.0)\n",
        "weight_for_2 = (1 / label2) * (total / 2.0)\n",
        "\n",
        "class_weight = {0: weight_for_0, 1: weight_for_1, 2: weight_for_2}\n",
        "\n",
        "print('Weight for class 0: {:.2f}'.format(weight_for_0))\n",
        "print('Weight for class 1: {:.2f}'.format(weight_for_1))\n",
        "print('Weight for class 2: {:.2f}'.format(weight_for_2))"
      ],
      "metadata": {
        "colab": {
          "base_uri": "https://localhost:8080/"
        },
        "id": "1VU2cPRtS_0-",
        "outputId": "f4d0a15d-a829-478b-bf7f-d9db0104c343"
      },
      "execution_count": 22,
      "outputs": [
        {
          "output_type": "stream",
          "name": "stdout",
          "text": [
            "Weight for class 0: 1.01\n",
            "Weight for class 1: 4.34\n",
            "Weight for class 2: 1.29\n"
          ]
        }
      ]
    },
    {
      "cell_type": "markdown",
      "source": [
        "The categories are converted into binary variables to facilitate the training of the model."
      ],
      "metadata": {
        "id": "A5VFFFYl-u4e"
      }
    },
    {
      "cell_type": "code",
      "source": [
        "# One-hot encode the labels\n",
        "y_train_OHE = tf.keras.utils.to_categorical(y_train, n_categories)\n",
        "y_valid_OHE = tf.keras.utils.to_categorical(y_valid, n_categories)"
      ],
      "metadata": {
        "id": "-K1LhOmk3e3k"
      },
      "execution_count": 20,
      "outputs": []
    },
    {
      "cell_type": "code",
      "source": [
        "print(\"x_train shape: \", X_train.shape)\n",
        "print(\"x_valid shape: \", X_valid.shape)\n",
        "print(\"x_test shape: \", x_test.shape)\n",
        "print(\"y_train_OHE shape: \", y_train_OHE.shape)\n",
        "print(\"y_valid_OHE shape: \", y_valid_OHE.shape)"
      ],
      "metadata": {
        "colab": {
          "base_uri": "https://localhost:8080/"
        },
        "id": "Tkgijhon4im2",
        "outputId": "5eb6c9fd-5fc3-4f76-816f-f9e4283d24a1"
      },
      "execution_count": 21,
      "outputs": [
        {
          "output_type": "stream",
          "name": "stdout",
          "text": [
            "x_train shape:  (1371, 332, 332, 3)\n",
            "x_valid shape:  (343, 332, 332, 3)\n",
            "x_test shape:  (635, 332, 332, 3)\n",
            "y_train_OHE shape:  (1371, 3)\n",
            "y_valid_OHE shape:  (343, 3)\n"
          ]
        }
      ]
    },
    {
      "cell_type": "markdown",
      "source": [
        "## Resize, rescale and data augmentation\n",
        "\n",
        "One of the things we can do to help training the model is to rescale the images, thus decreasing the size, normalise the pixel values between 0 and 1 and do a little pre-processing to increase the training set."
      ],
      "metadata": {
        "id": "KsBopvox-8ID"
      }
    },
    {
      "cell_type": "code",
      "source": [
        "IMG_SIZE = 300\n",
        "\n",
        "resize_and_rescale = tf.keras.Sequential([\n",
        "  layers.Resizing(IMG_SIZE, IMG_SIZE),\n",
        "  layers.Rescaling(scale=1 / 127.5, offset=-1)\n",
        "])"
      ],
      "metadata": {
        "id": "IDKSSm2z-8IE"
      },
      "execution_count": 24,
      "outputs": []
    },
    {
      "cell_type": "code",
      "source": [
        "data_augmentation = tf.keras.Sequential([\n",
        "  layers.RandomFlip(\"horizontal_and_vertical\"),\n",
        "  layers.RandomRotation(0.2)\n",
        "])"
      ],
      "metadata": {
        "id": "P5nc9Hnp-8IF"
      },
      "execution_count": 25,
      "outputs": []
    },
    {
      "cell_type": "markdown",
      "source": [
        "## Create model\n",
        "\n",
        "Let's try the technique of transfer learning + fine tuning"
      ],
      "metadata": {
        "id": "7eRMTlvDk9m8"
      }
    },
    {
      "cell_type": "code",
      "source": [
        "base_model = tf.keras.applications.Xception(\n",
        "    weights='imagenet',  # Load weights pre-trained on ImageNet.\n",
        "    input_shape=(300, 300, 3),\n",
        "    include_top=False)  # Do not include the ImageNet classifier at the top.\n",
        "\n",
        "base_model.trainable = False"
      ],
      "metadata": {
        "id": "KMtpOdZs_olR"
      },
      "execution_count": 35,
      "outputs": []
    },
    {
      "cell_type": "code",
      "source": [
        "inputs = tf.keras.Input(shape=(332, 332, 3))\n",
        "x = data_augmentation(inputs)\n",
        "x = resize_and_rescale(x)\n",
        "# We make sure that the base_model is running in inference mode here,\n",
        "# by passing `training=False`. This is important for fine-tuning, as you will\n",
        "# learn in a few paragraphs.\n",
        "x = base_model(x, training=False)\n",
        "\n",
        "x = tf.keras.layers.Conv2D(filters=64, kernel_size=3, padding='same', activation='relu')(x)\n",
        "x = tf.keras.layers.MaxPooling2D(pool_size=2)(x)\n",
        "x = tf.keras.layers.Dropout(0.3)(x)\n",
        "\n",
        "x = tf.keras.layers.Conv2D(filters=32, kernel_size=3, padding='same', activation='relu')(x)\n",
        "x = tf.keras.layers.MaxPooling2D(pool_size=2)(x)\n",
        "x = tf.keras.layers.Dropout(0.3)(x)\n",
        "\n",
        "# x = tf.keras.layers.Conv2D(filters=16, kernel_size=3, padding='same', activation='relu')(x)\n",
        "# x = tf.keras.layers.MaxPooling2D(pool_size=2)(x)\n",
        "# x = tf.keras.layers.Dropout(0.3)(x)\n",
        "\n",
        "# x = tf.keras.layers.Conv2D(filters=8, kernel_size=3, padding='same', activation='relu')(x)\n",
        "# x = tf.keras.layers.MaxPooling2D(pool_size=2)(x)\n",
        "# x = tf.keras.layers.Dropout(0.3)(x)\n",
        "\n",
        "x = tf.keras.layers.Flatten()(x)\n",
        "x = tf.keras.layers.Dense(256, activation='relu')(x)\n",
        "x = tf.keras.layers.Dropout(0.5)(x)\n",
        "outputs = tf.keras.layers.Dense(n_categories, activation='softmax')(x)\n",
        "\n",
        "model = tf.keras.Model(inputs, outputs)"
      ],
      "metadata": {
        "id": "4_RuxLnY4QD6"
      },
      "execution_count": 36,
      "outputs": []
    },
    {
      "cell_type": "code",
      "source": [
        "model.build((None, 332, 332, 3)) # `input_shape` is the shape of the input data\n",
        "\n",
        "model.summary()"
      ],
      "metadata": {
        "colab": {
          "base_uri": "https://localhost:8080/"
        },
        "id": "qSOm_NsZRIME",
        "outputId": "05f50aac-9933-41d7-954e-4883528a0bff"
      },
      "execution_count": 37,
      "outputs": [
        {
          "output_type": "stream",
          "name": "stdout",
          "text": [
            "Model: \"model_1\"\n",
            "_________________________________________________________________\n",
            " Layer (type)                Output Shape              Param #   \n",
            "=================================================================\n",
            " input_6 (InputLayer)        [(None, 332, 332, 3)]     0         \n",
            "                                                                 \n",
            " sequential_1 (Sequential)   (None, 332, 332, 3)       0         \n",
            "                                                                 \n",
            " sequential (Sequential)     (None, 300, 300, 3)       0         \n",
            "                                                                 \n",
            " xception (Functional)       (None, 10, 10, 2048)      20861480  \n",
            "                                                                 \n",
            " conv2d_10 (Conv2D)          (None, 10, 10, 64)        1179712   \n",
            "                                                                 \n",
            " max_pooling2d_2 (MaxPooling  (None, 5, 5, 64)         0         \n",
            " 2D)                                                             \n",
            "                                                                 \n",
            " dropout_3 (Dropout)         (None, 5, 5, 64)          0         \n",
            "                                                                 \n",
            " conv2d_11 (Conv2D)          (None, 5, 5, 32)          18464     \n",
            "                                                                 \n",
            " max_pooling2d_3 (MaxPooling  (None, 2, 2, 32)         0         \n",
            " 2D)                                                             \n",
            "                                                                 \n",
            " dropout_4 (Dropout)         (None, 2, 2, 32)          0         \n",
            "                                                                 \n",
            " flatten_1 (Flatten)         (None, 128)               0         \n",
            "                                                                 \n",
            " dense_2 (Dense)             (None, 256)               33024     \n",
            "                                                                 \n",
            " dropout_5 (Dropout)         (None, 256)               0         \n",
            "                                                                 \n",
            " dense_3 (Dense)             (None, 3)                 771       \n",
            "                                                                 \n",
            "=================================================================\n",
            "Total params: 22,093,451\n",
            "Trainable params: 1,231,971\n",
            "Non-trainable params: 20,861,480\n",
            "_________________________________________________________________\n"
          ]
        }
      ]
    },
    {
      "cell_type": "markdown",
      "source": [
        "## Compile the model\n",
        "Configure the learning process with compile() API before training the model. It receives three arguments:\n",
        "\n",
        "*   An optimizer \n",
        "*   A loss function \n",
        "*   A list of metrics "
      ],
      "metadata": {
        "id": "tNkoKc7S6R3Q"
      }
    },
    {
      "cell_type": "code",
      "source": [
        "model.compile(loss='categorical_crossentropy',\n",
        "             optimizer='adam',\n",
        "             metrics=['categorical_accuracy'])"
      ],
      "metadata": {
        "id": "_dHzWlB26Q0G"
      },
      "execution_count": 38,
      "outputs": []
    },
    {
      "cell_type": "markdown",
      "source": [
        "## Training model\n",
        "\n",
        "We are now ready to train the model."
      ],
      "metadata": {
        "id": "T2nrlRWIk_75"
      }
    },
    {
      "cell_type": "code",
      "source": [
        "model_earlystopping_callback = tf.keras.callbacks.EarlyStopping(monitor='val_loss', patience=20)"
      ],
      "metadata": {
        "id": "W2yceQpEIIai"
      },
      "execution_count": 39,
      "outputs": []
    },
    {
      "cell_type": "code",
      "source": [
        "checkpoint_filepath = '/tmp/checkpoint'\n",
        "\n",
        "model_checkpoint_callback = tf.keras.callbacks.ModelCheckpoint(\n",
        "    filepath=checkpoint_filepath,\n",
        "    save_weights_only=True,\n",
        "    verbose = 1,\n",
        "    monitor='val_categorical_accuracy',\n",
        "    save_best_only=True)\n",
        "\n",
        "# checkpointer = ModelCheckpoint(filepath='model.weights.best.hdf5', verbose = 1, save_best_only=True)"
      ],
      "metadata": {
        "id": "-qX3-OoeCF6f"
      },
      "execution_count": 40,
      "outputs": []
    },
    {
      "cell_type": "code",
      "source": [
        "# Parameters\n",
        "batch_size=64\n",
        "epochs=20"
      ],
      "metadata": {
        "id": "3J31wbmLCO3z"
      },
      "execution_count": 41,
      "outputs": []
    },
    {
      "cell_type": "markdown",
      "source": [
        "This time we will not use callbacks"
      ],
      "metadata": {
        "id": "oardKh4A_1kY"
      }
    },
    {
      "cell_type": "code",
      "source": [
        "history = model.fit(X_train,\n",
        "         y_train_OHE,\n",
        "         batch_size=batch_size,\n",
        "         epochs=epochs,\n",
        "         validation_data=(X_valid, y_valid_OHE),\n",
        "         #callbacks=[model_checkpoint_callback, model_earlystopping_callback]\n",
        "          class_weight=class_weight\n",
        "         )"
      ],
      "metadata": {
        "id": "WqOfBtx0omx5",
        "colab": {
          "base_uri": "https://localhost:8080/"
        },
        "outputId": "cfd29e2e-80fc-48e9-8aa9-f7d87cbb47a6"
      },
      "execution_count": 42,
      "outputs": [
        {
          "output_type": "stream",
          "name": "stdout",
          "text": [
            "Epoch 1/20\n",
            "22/22 [==============================] - 29s 746ms/step - loss: 1.7544 - categorical_accuracy: 0.4384 - val_loss: 0.8173 - val_categorical_accuracy: 0.6939\n",
            "Epoch 2/20\n",
            "22/22 [==============================] - 13s 600ms/step - loss: 1.4575 - categorical_accuracy: 0.5551 - val_loss: 0.8103 - val_categorical_accuracy: 0.5802\n",
            "Epoch 3/20\n",
            "22/22 [==============================] - 13s 612ms/step - loss: 1.3535 - categorical_accuracy: 0.5529 - val_loss: 0.7782 - val_categorical_accuracy: 0.6910\n",
            "Epoch 4/20\n",
            "22/22 [==============================] - 14s 625ms/step - loss: 1.3133 - categorical_accuracy: 0.5959 - val_loss: 0.7815 - val_categorical_accuracy: 0.6327\n",
            "Epoch 5/20\n",
            "22/22 [==============================] - 14s 630ms/step - loss: 1.2467 - categorical_accuracy: 0.6521 - val_loss: 0.8170 - val_categorical_accuracy: 0.6793\n",
            "Epoch 6/20\n",
            "22/22 [==============================] - 14s 631ms/step - loss: 1.1975 - categorical_accuracy: 0.6565 - val_loss: 0.6672 - val_categorical_accuracy: 0.7434\n",
            "Epoch 7/20\n",
            "22/22 [==============================] - 14s 637ms/step - loss: 1.1972 - categorical_accuracy: 0.6645 - val_loss: 0.7433 - val_categorical_accuracy: 0.6851\n",
            "Epoch 8/20\n",
            "22/22 [==============================] - 17s 762ms/step - loss: 1.1106 - categorical_accuracy: 0.6820 - val_loss: 0.6781 - val_categorical_accuracy: 0.7638\n",
            "Epoch 9/20\n",
            "22/22 [==============================] - 14s 645ms/step - loss: 1.1298 - categorical_accuracy: 0.6951 - val_loss: 0.6741 - val_categorical_accuracy: 0.7726\n",
            "Epoch 10/20\n",
            "22/22 [==============================] - 14s 659ms/step - loss: 1.0586 - categorical_accuracy: 0.7287 - val_loss: 0.6608 - val_categorical_accuracy: 0.7580\n",
            "Epoch 11/20\n",
            "22/22 [==============================] - 14s 660ms/step - loss: 1.0516 - categorical_accuracy: 0.7294 - val_loss: 0.7381 - val_categorical_accuracy: 0.7522\n",
            "Epoch 12/20\n",
            "22/22 [==============================] - 14s 664ms/step - loss: 0.9999 - categorical_accuracy: 0.7411 - val_loss: 0.6451 - val_categorical_accuracy: 0.7609\n",
            "Epoch 13/20\n",
            "22/22 [==============================] - 15s 668ms/step - loss: 0.9929 - categorical_accuracy: 0.7177 - val_loss: 0.6731 - val_categorical_accuracy: 0.7405\n",
            "Epoch 14/20\n",
            "22/22 [==============================] - 17s 785ms/step - loss: 0.9918 - categorical_accuracy: 0.7447 - val_loss: 0.6461 - val_categorical_accuracy: 0.7813\n",
            "Epoch 15/20\n",
            "22/22 [==============================] - 15s 672ms/step - loss: 0.9306 - categorical_accuracy: 0.7622 - val_loss: 0.7485 - val_categorical_accuracy: 0.6676\n",
            "Epoch 16/20\n",
            "22/22 [==============================] - 15s 675ms/step - loss: 0.9807 - categorical_accuracy: 0.7199 - val_loss: 0.6979 - val_categorical_accuracy: 0.7464\n",
            "Epoch 17/20\n",
            "22/22 [==============================] - 15s 678ms/step - loss: 0.9117 - categorical_accuracy: 0.7600 - val_loss: 0.7330 - val_categorical_accuracy: 0.7143\n",
            "Epoch 18/20\n",
            "22/22 [==============================] - 15s 679ms/step - loss: 0.9208 - categorical_accuracy: 0.7615 - val_loss: 0.7313 - val_categorical_accuracy: 0.7201\n",
            "Epoch 19/20\n",
            "22/22 [==============================] - 15s 689ms/step - loss: 0.9122 - categorical_accuracy: 0.7710 - val_loss: 0.6694 - val_categorical_accuracy: 0.7522\n",
            "Epoch 20/20\n",
            "22/22 [==============================] - 15s 676ms/step - loss: 0.8855 - categorical_accuracy: 0.7826 - val_loss: 0.7343 - val_categorical_accuracy: 0.7085\n"
          ]
        }
      ]
    },
    {
      "cell_type": "markdown",
      "source": [
        "We plot the graphs to obtain the training information."
      ],
      "metadata": {
        "id": "eGwIxQSQAGh-"
      }
    },
    {
      "cell_type": "code",
      "source": [
        "# summarize history for accuracy\n",
        "plt.plot(history.history['categorical_accuracy'])\n",
        "plt.plot(history.history['val_categorical_accuracy'])\n",
        "plt.title('model accuracy')\n",
        "plt.ylabel('accuracy')\n",
        "plt.xlabel('epoch')\n",
        "plt.legend(['train', 'valid'], loc='upper left')\n",
        "plt.show()\n",
        "# summarize history for loss\n",
        "plt.plot(history.history['loss'])\n",
        "plt.plot(history.history['val_loss'])\n",
        "plt.title('model loss')\n",
        "plt.ylabel('loss')\n",
        "plt.xlabel('epoch')\n",
        "plt.legend(['train', 'valid'], loc='upper left')\n",
        "plt.show()"
      ],
      "metadata": {
        "colab": {
          "base_uri": "https://localhost:8080/",
          "height": 573
        },
        "id": "YjQr_Ax5FXgU",
        "outputId": "8f7077f6-224e-4266-a572-6781292d1ef7"
      },
      "execution_count": 44,
      "outputs": [
        {
          "output_type": "display_data",
          "data": {
            "text/plain": [
              "<Figure size 432x288 with 1 Axes>"
            ],
            "image/png": "[encoded data removed]"
          },
          "metadata": {
            "needs_background": "light"
          }
        },
        {
          "output_type": "display_data",
          "data": {
            "text/plain": [
              "<Figure size 432x288 with 1 Axes>"
            ],
            "image/png": "[encoded data removed]"
          },
          "metadata": {
            "needs_background": "light"
          }
        }
      ]
    },
    {
      "cell_type": "markdown",
      "source": [
        "### Fine-Tuning model\n",
        "\n",
        "Now, we perform fine tuning on the model by applying a very small learning rate. "
      ],
      "metadata": {
        "id": "jgSCz1jLDfJ6"
      }
    },
    {
      "cell_type": "code",
      "source": [
        "model.compile(\n",
        "    optimizer = tf.keras.optimizers.Adam(1e-5),  # Low learning rate\n",
        "    loss = tf.keras.losses.CategoricalCrossentropy(from_logits=True),\n",
        "    metrics = [tf.keras.metrics.CategoricalAccuracy()],\n",
        ")"
      ],
      "metadata": {
        "id": "jxYDa9UXDtY_"
      },
      "execution_count": 45,
      "outputs": []
    },
    {
      "cell_type": "code",
      "source": [
        "history = model.fit(X_train,\n",
        "         y_train_OHE,\n",
        "         batch_size=batch_size,\n",
        "         epochs=10,\n",
        "         validation_data=(X_valid, y_valid_OHE),\n",
        "         #callbacks=[model_checkpoint_callback, model_earlystopping_callback]\n",
        "         class_weight=class_weight\n",
        "         )"
      ],
      "metadata": {
        "colab": {
          "base_uri": "https://localhost:8080/"
        },
        "id": "lQBIvcORDlLB",
        "outputId": "fa23fce4-0908-42ca-d1d8-13967852884d"
      },
      "execution_count": 46,
      "outputs": [
        {
          "output_type": "stream",
          "name": "stdout",
          "text": [
            "Epoch 1/10\n"
          ]
        },
        {
          "output_type": "stream",
          "name": "stderr",
          "text": [
            "/usr/local/lib/python3.7/dist-packages/tensorflow/python/util/dispatch.py:1082: UserWarning: \"`categorical_crossentropy` received `from_logits=True`, but the `output` argument was produced by a sigmoid or softmax activation and thus does not represent logits. Was this intended?\"\n",
            "  return dispatch_target(*args, **kwargs)\n"
          ]
        },
        {
          "output_type": "stream",
          "name": "stdout",
          "text": [
            "22/22 [==============================] - 18s 674ms/step - loss: 0.8843 - categorical_accuracy: 0.7484 - val_loss: 0.7011 - val_categorical_accuracy: 0.7347\n",
            "Epoch 2/10\n",
            "22/22 [==============================] - 14s 643ms/step - loss: 0.8352 - categorical_accuracy: 0.7688 - val_loss: 0.6822 - val_categorical_accuracy: 0.7259\n",
            "Epoch 3/10\n",
            "22/22 [==============================] - 14s 652ms/step - loss: 0.7954 - categorical_accuracy: 0.7805 - val_loss: 0.6678 - val_categorical_accuracy: 0.7405\n",
            "Epoch 4/10\n",
            "22/22 [==============================] - 14s 656ms/step - loss: 0.8115 - categorical_accuracy: 0.7805 - val_loss: 0.6581 - val_categorical_accuracy: 0.7464\n",
            "Epoch 5/10\n",
            "22/22 [==============================] - 15s 668ms/step - loss: 0.8095 - categorical_accuracy: 0.7950 - val_loss: 0.6546 - val_categorical_accuracy: 0.7464\n",
            "Epoch 6/10\n",
            "22/22 [==============================] - 15s 670ms/step - loss: 0.7663 - categorical_accuracy: 0.7826 - val_loss: 0.6513 - val_categorical_accuracy: 0.7493\n",
            "Epoch 7/10\n",
            "22/22 [==============================] - 15s 673ms/step - loss: 0.7575 - categorical_accuracy: 0.8001 - val_loss: 0.6463 - val_categorical_accuracy: 0.7464\n",
            "Epoch 8/10\n",
            "22/22 [==============================] - 15s 675ms/step - loss: 0.7610 - categorical_accuracy: 0.7943 - val_loss: 0.6417 - val_categorical_accuracy: 0.7493\n",
            "Epoch 9/10\n",
            "22/22 [==============================] - 15s 677ms/step - loss: 0.8227 - categorical_accuracy: 0.7783 - val_loss: 0.6446 - val_categorical_accuracy: 0.7493\n",
            "Epoch 10/10\n",
            "22/22 [==============================] - 15s 680ms/step - loss: 0.8075 - categorical_accuracy: 0.7834 - val_loss: 0.6440 - val_categorical_accuracy: 0.7493\n"
          ]
        }
      ]
    },
    {
      "cell_type": "markdown",
      "source": [
        "## Evaluation of the model\n",
        "\n",
        "We evaluate the performance of the model"
      ],
      "metadata": {
        "id": "3xC_tyB9lCpp"
      }
    },
    {
      "cell_type": "code",
      "source": [
        "y_pred1 = model.predict(X_valid)\n",
        "y_pred = np.argmax(y_pred1, axis=1)"
      ],
      "metadata": {
        "colab": {
          "base_uri": "https://localhost:8080/"
        },
        "id": "EJw7LsMNtvgL",
        "outputId": "54f2c135-206d-4d40-c61f-79352525a79f"
      },
      "execution_count": 47,
      "outputs": [
        {
          "output_type": "stream",
          "name": "stdout",
          "text": [
            "11/11 [==============================] - 4s 211ms/step\n"
          ]
        }
      ]
    },
    {
      "cell_type": "code",
      "source": [
        "# Print f1, precision, and recall scores\n",
        "print(f\"Precision score: {precision_score(y_valid, y_pred , average='macro')}\")\n",
        "print(f\"Recall score: {recall_score(y_valid, y_pred , average='macro')}\")\n",
        "print(f\"F1 score: {f1_score(y_valid, y_pred , average='macro')}\")"
      ],
      "metadata": {
        "colab": {
          "base_uri": "https://localhost:8080/"
        },
        "id": "ZdtqueU-n7fq",
        "outputId": "9d559a38-8c8c-4eba-cbf8-4c047d24d57f"
      },
      "execution_count": 48,
      "outputs": [
        {
          "output_type": "stream",
          "name": "stdout",
          "text": [
            "Precision score: 0.6702572710380158\n",
            "Recall score: 0.6922040569884412\n",
            "F1 score: 0.6777660324171952\n"
          ]
        }
      ]
    },
    {
      "cell_type": "code",
      "source": [
        "print(classification_report(y_valid, y_pred))"
      ],
      "metadata": {
        "colab": {
          "base_uri": "https://localhost:8080/"
        },
        "id": "paJnXTuqonEu",
        "outputId": "76c26320-6617-423b-9d09-70b59abee7a9"
      },
      "execution_count": 49,
      "outputs": [
        {
          "output_type": "stream",
          "name": "stdout",
          "text": [
            "              precision    recall  f1-score   support\n",
            "\n",
            "           0       0.89      0.79      0.83       178\n",
            "           1       0.42      0.53      0.47        38\n",
            "           2       0.71      0.76      0.73       127\n",
            "\n",
            "    accuracy                           0.75       343\n",
            "   macro avg       0.67      0.69      0.68       343\n",
            "weighted avg       0.77      0.75      0.76       343\n",
            "\n"
          ]
        }
      ]
    },
    {
      "cell_type": "markdown",
      "source": [
        "## Predictions\n",
        "\n",
        "Finally, we perform the model predictions."
      ],
      "metadata": {
        "id": "4JjmZYN60qs-"
      }
    },
    {
      "cell_type": "code",
      "source": [
        "predictions_prob = model.predict(x_test)"
      ],
      "metadata": {
        "colab": {
          "base_uri": "https://localhost:8080/"
        },
        "id": "d-T2cq5z054-",
        "outputId": "3265b594-0ecc-495a-f3a0-0218b2b889e5"
      },
      "execution_count": 50,
      "outputs": [
        {
          "output_type": "stream",
          "name": "stdout",
          "text": [
            "20/20 [==============================] - 4s 234ms/step\n"
          ]
        }
      ]
    },
    {
      "cell_type": "code",
      "source": [
        "predictions = np.argmax(predictions_prob, axis=1)"
      ],
      "metadata": {
        "id": "zA341hxv1DkP"
      },
      "execution_count": 51,
      "outputs": []
    },
    {
      "cell_type": "markdown",
      "source": [
        "We save the results in a json file"
      ],
      "metadata": {
        "id": "LqqBJpyC162i"
      }
    },
    {
      "cell_type": "code",
      "source": [
        "pred_df = pd.DataFrame(predictions, columns = ['target'])"
      ],
      "metadata": {
        "id": "X6XtmKhc1OVw"
      },
      "execution_count": 52,
      "outputs": []
    },
    {
      "cell_type": "code",
      "source": [
        "pred_df.to_json(r'predictions.json', indent=4)\n"
      ],
      "metadata": {
        "id": "jgG-LxPW1cqe"
      },
      "execution_count": 53,
      "outputs": []
    },
    {
      "cell_type": "code",
      "source": [
        "pred_df"
      ],
      "metadata": {
        "colab": {
          "base_uri": "https://localhost:8080/",
          "height": 424
        },
        "id": "T3_JEtZs1bJp",
        "outputId": "443c3615-4ea8-4c5a-f2e9-a14a7b86df4b"
      },
      "execution_count": 54,
      "outputs": [
        {
          "output_type": "execute_result",
          "data": {
            "text/plain": [
              "     target\n",
              "0         2\n",
              "1         2\n",
              "2         0\n",
              "3         0\n",
              "4         2\n",
              "..      ...\n",
              "630       2\n",
              "631       2\n",
              "632       2\n",
              "633       0\n",
              "634       0\n",
              "\n",
              "[635 rows x 1 columns]"
            ],
            "text/html": [
              "\n",
              "  <div id=\"df-8f57716c-a0cb-465f-b67f-8981e7986715\">\n",
              "    <div class=\"colab-df-container\">\n",
              "      <div>\n",
              "<style scoped>\n",
              "    .dataframe tbody tr th:only-of-type {\n",
              "        vertical-align: middle;\n",
              "    }\n",
              "\n",
              "    .dataframe tbody tr th {\n",
              "        vertical-align: top;\n",
              "    }\n",
              "\n",
              "    .dataframe thead th {\n",
              "        text-align: right;\n",
              "    }\n",
              "</style>\n",
              "<table border=\"1\" class=\"dataframe\">\n",
              "  <thead>\n",
              "    <tr style=\"text-align: right;\">\n",
              "      <th></th>\n",
              "      <th>target</th>\n",
              "    </tr>\n",
              "  </thead>\n",
              "  <tbody>\n",
              "    <tr>\n",
              "      <th>0</th>\n",
              "      <td>2</td>\n",
              "    </tr>\n",
              "    <tr>\n",
              "      <th>1</th>\n",
              "      <td>2</td>\n",
              "    </tr>\n",
              "    <tr>\n",
              "      <th>2</th>\n",
              "      <td>0</td>\n",
              "    </tr>\n",
              "    <tr>\n",
              "      <th>3</th>\n",
              "      <td>0</td>\n",
              "    </tr>\n",
              "    <tr>\n",
              "      <th>4</th>\n",
              "      <td>2</td>\n",
              "    </tr>\n",
              "    <tr>\n",
              "      <th>...</th>\n",
              "      <td>...</td>\n",
              "    </tr>\n",
              "    <tr>\n",
              "      <th>630</th>\n",
              "      <td>2</td>\n",
              "    </tr>\n",
              "    <tr>\n",
              "      <th>631</th>\n",
              "      <td>2</td>\n",
              "    </tr>\n",
              "    <tr>\n",
              "      <th>632</th>\n",
              "      <td>2</td>\n",
              "    </tr>\n",
              "    <tr>\n",
              "      <th>633</th>\n",
              "      <td>0</td>\n",
              "    </tr>\n",
              "    <tr>\n",
              "      <th>634</th>\n",
              "      <td>0</td>\n",
              "    </tr>\n",
              "  </tbody>\n",
              "</table>\n",
              "<p>635 rows × 1 columns</p>\n",
              "</div>\n",
              "      <button class=\"colab-df-convert\" onclick=\"convertToInteractive('df-8f57716c-a0cb-465f-b67f-8981e7986715')\"\n",
              "              title=\"Convert this dataframe to an interactive table.\"\n",
              "              style=\"display:none;\">\n",
              "        \n",
              "  <svg xmlns=\"http://www.w3.org/2000/svg\" height=\"24px\"viewBox=\"0 0 24 24\"\n",
              "       width=\"24px\">\n",
              "    <path d=\"M0 0h24v24H0V0z\" fill=\"none\"/>\n",
              "    <path d=\"M18.56 5.44l.94 2.06.94-2.06 2.06-.94-2.06-.94-.94-2.06-.94 2.06-2.06.94zm-11 1L8.5 8.5l.94-2.06 2.06-.94-2.06-.94L8.5 2.5l-.94 2.06-2.06.94zm10 10l.94 2.06.94-2.06 2.06-.94-2.06-.94-.94-2.06-.94 2.06-2.06.94z\"/><path d=\"M17.41 7.96l-1.37-1.37c-.4-.4-.92-.59-1.43-.59-.52 0-1.04.2-1.43.59L10.3 9.45l-7.72 7.72c-.78.78-.78 2.05 0 2.83L4 21.41c.39.39.9.59 1.41.59.51 0 1.02-.2 1.41-.59l7.78-7.78 2.81-2.81c.8-.78.8-2.07 0-2.86zM5.41 20L4 18.59l7.72-7.72 1.47 1.35L5.41 20z\"/>\n",
              "  </svg>\n",
              "      </button>\n",
              "      \n",
              "  <style>\n",
              "    .colab-df-container {\n",
              "      display:flex;\n",
              "      flex-wrap:wrap;\n",
              "      gap: 12px;\n",
              "    }\n",
              "\n",
              "    .colab-df-convert {\n",
              "      background-color: #E8F0FE;\n",
              "      border: none;\n",
              "      border-radius: 50%;\n",
              "      cursor: pointer;\n",
              "      display: none;\n",
              "      fill: #1967D2;\n",
              "      height: 32px;\n",
              "      padding: 0 0 0 0;\n",
              "      width: 32px;\n",
              "    }\n",
              "\n",
              "    .colab-df-convert:hover {\n",
              "      background-color: #E2EBFA;\n",
              "      box-shadow: 0px 1px 2px rgba(60, 64, 67, 0.3), 0px 1px 3px 1px rgba(60, 64, 67, 0.15);\n",
              "      fill: #174EA6;\n",
              "    }\n",
              "\n",
              "    [theme=dark] .colab-df-convert {\n",
              "      background-color: #3B4455;\n",
              "      fill: #D2E3FC;\n",
              "    }\n",
              "\n",
              "    [theme=dark] .colab-df-convert:hover {\n",
              "      background-color: #434B5C;\n",
              "      box-shadow: 0px 1px 3px 1px rgba(0, 0, 0, 0.15);\n",
              "      filter: drop-shadow(0px 1px 2px rgba(0, 0, 0, 0.3));\n",
              "      fill: #FFFFFF;\n",
              "    }\n",
              "  </style>\n",
              "\n",
              "      <script>\n",
              "        const buttonEl =\n",
              "          document.querySelector('#df-8f57716c-a0cb-465f-b67f-8981e7986715 button.colab-df-convert');\n",
              "        buttonEl.style.display =\n",
              "          google.colab.kernel.accessAllowed ? 'block' : 'none';\n",
              "\n",
              "        async function convertToInteractive(key) {\n",
              "          const element = document.querySelector('#df-8f57716c-a0cb-465f-b67f-8981e7986715');\n",
              "          const dataTable =\n",
              "            await google.colab.kernel.invokeFunction('convertToInteractive',\n",
              "                                                     [key], {});\n",
              "          if (!dataTable) return;\n",
              "\n",
              "          const docLinkHtml = 'Like what you see? Visit the ' +\n",
              "            '<a target=\"_blank\" href=https://colab.research.google.com/notebooks/data_table.ipynb>data table notebook</a>'\n",
              "            + ' to learn more about interactive tables.';\n",
              "          element.innerHTML = '';\n",
              "          dataTable['output_type'] = 'display_data';\n",
              "          await google.colab.output.renderOutput(dataTable, element);\n",
              "          const docLink = document.createElement('div');\n",
              "          docLink.innerHTML = docLinkHtml;\n",
              "          element.appendChild(docLink);\n",
              "        }\n",
              "      </script>\n",
              "    </div>\n",
              "  </div>\n",
              "  "
            ]
          },
          "metadata": {},
          "execution_count": 54
        }
      ]
    },
    {
      "cell_type": "code",
      "source": [],
      "metadata": {
        "id": "f3_yfCWaCKSw"
      },
      "execution_count": null,
      "outputs": []
    }
  ]
}