{
  "nbformat": 4,
  "nbformat_minor": 0,
  "metadata": {
    "colab": {
      "provenance": []
    },
    "kernelspec": {
      "name": "python3",
      "display_name": "Python 3"
    },
    "language_info": {
      "name": "python"
    },
    "accelerator": "GPU",
    "gpuClass": "standard"
  },
  "cells": [
    {
      "cell_type": "markdown",
      "source": [
        "# Schneider Electric Hackathon - Zero Deforestation Mission\n",
        "\n",
        "Deforestation is the permanent removal of standing forests, which occurs for a variety of reasons and has many devastating consequences. It is important to stop deforestation, as soon as possible, before the damage is irreversible.\n",
        "\n",
        "This challenge will consist of using the help of thousands of satellites in space to capture images of the earth's surface in order to detect, as soon as possible, areas in the midst of deforestation and prevent its expansion.\n",
        "\n",
        "In this Jupyter notebook, a CNN model is applied, which includes:\n",
        "\n",
        "1. Clone the repository,\n",
        "2. Load the data,\n",
        "3. Look for Null values,\n",
        "4. Preprocess the data,\n",
        "5. Create the model,\n",
        "6. Train the model,\n",
        "7. Validate the model."
      ],
      "metadata": {
        "id": "gQz2N__2TEh8"
      }
    },
    {
      "cell_type": "markdown",
      "source": [
        "## Clone repository\n",
        "\n",
        "We clone the repository to be able to access the data."
      ],
      "metadata": {
        "id": "8Fl7CMDMkQwr"
      }
    },
    {
      "cell_type": "code",
      "source": [
        "# Public repository\n",
        "# ! git clone https://github.com/{username}/{repo}.git\n",
        "! git clone https://github.com/ricdurvin/Schneider_Electric_Hackathon-Deforestation.git"
      ],
      "metadata": {
        "colab": {
          "base_uri": "https://localhost:8080/"
        },
        "id": "H72qWZzwUI-I",
        "outputId": "95ab0747-7509-4f96-8733-0b85a0abe92b"
      },
      "execution_count": 1,
      "outputs": [
        {
          "output_type": "stream",
          "name": "stdout",
          "text": [
            "Cloning into 'Schneider_Electric_Hackathon-Deforestation'...\n",
            "remote: Enumerating objects: 2405, done.\u001b[K\n",
            "remote: Counting objects: 100% (49/49), done.\u001b[K\n",
            "remote: Compressing objects: 100% (39/39), done.\u001b[K\n",
            "remote: Total 2405 (delta 16), reused 37 (delta 8), pack-reused 2356\u001b[K\n",
            "Receiving objects: 100% (2405/2405), 309.30 MiB | 14.47 MiB/s, done.\n",
            "Resolving deltas: 100% (16/16), done.\n"
          ]
        }
      ]
    },
    {
      "cell_type": "markdown",
      "source": [
        "Now, we can see the repository in the Google Collab workspace (left panel) and use its files or data"
      ],
      "metadata": {
        "id": "aNhUlbCrZlu3"
      }
    },
    {
      "cell_type": "markdown",
      "source": [
        "## Check GPU configuration\n",
        "\n",
        "We have access via Google Colab to an instance of the GPU. It is important to check the configuration of each Jupyter Notebook to take advantage of the power of the GPU.\n",
        "\n",
        "How to activate the GPU?\n",
        "\n",
        "Go to *Runtime/Change runtime type/Hardware* -> GPU\n",
        "\n",
        "It is not always possible to access GPUs, as we use the free version of Google Colab."
      ],
      "metadata": {
        "id": "-9jTpqvcaPjZ"
      }
    },
    {
      "cell_type": "markdown",
      "source": [
        "By executing the following command we can see which GPU we are using in this environment.\n",
        "\n",
        "**Important**: It may happen that different Google Colab environments use different GPU models, so there may be models with different power."
      ],
      "metadata": {
        "id": "PIRG8NQ5cHXJ"
      }
    },
    {
      "cell_type": "code",
      "source": [
        "!nvidia-smi"
      ],
      "metadata": {
        "colab": {
          "base_uri": "https://localhost:8080/"
        },
        "id": "E-ycQR0gbpNJ",
        "outputId": "49e0622b-5696-49de-f24f-ee5f04fc0277"
      },
      "execution_count": 2,
      "outputs": [
        {
          "output_type": "stream",
          "name": "stdout",
          "text": [
            "Sat Nov 19 21:57:43 2022       \n",
            "+-----------------------------------------------------------------------------+\n",
            "| NVIDIA-SMI 460.32.03    Driver Version: 460.32.03    CUDA Version: 11.2     |\n",
            "|-------------------------------+----------------------+----------------------+\n",
            "| GPU  Name        Persistence-M| Bus-Id        Disp.A | Volatile Uncorr. ECC |\n",
            "| Fan  Temp  Perf  Pwr:Usage/Cap|         Memory-Usage | GPU-Util  Compute M. |\n",
            "|                               |                      |               MIG M. |\n",
            "|===============================+======================+======================|\n",
            "|   0  Tesla T4            Off  | 00000000:00:04.0 Off |                    0 |\n",
            "| N/A   59C    P8    10W /  70W |      0MiB / 15109MiB |      0%      Default |\n",
            "|                               |                      |                  N/A |\n",
            "+-------------------------------+----------------------+----------------------+\n",
            "                                                                               \n",
            "+-----------------------------------------------------------------------------+\n",
            "| Processes:                                                                  |\n",
            "|  GPU   GI   CI        PID   Type   Process name                  GPU Memory |\n",
            "|        ID   ID                                                   Usage      |\n",
            "|=============================================================================|\n",
            "|  No running processes found                                                 |\n",
            "+-----------------------------------------------------------------------------+\n"
          ]
        }
      ]
    },
    {
      "cell_type": "markdown",
      "source": [
        "## Install dependencies\n",
        "\n",
        "Despite having Tensorflow installed on Google Colab by default, we upgraded to the latest stable version."
      ],
      "metadata": {
        "id": "o2_ICK52mIdN"
      }
    },
    {
      "cell_type": "code",
      "source": [
        "!pip install tensorflow"
      ],
      "metadata": {
        "colab": {
          "base_uri": "https://localhost:8080/"
        },
        "id": "pCD-YPHphlfE",
        "outputId": "351a054a-ab1b-49fd-e5c3-0f8af83376a9"
      },
      "execution_count": 3,
      "outputs": [
        {
          "output_type": "stream",
          "name": "stdout",
          "text": [
            "Looking in indexes: https://pypi.org/simple, https://us-python.pkg.dev/colab-wheels/public/simple/\n",
            "Requirement already satisfied: tensorflow in /usr/local/lib/python3.7/dist-packages (2.9.2)\n",
            "Requirement already satisfied: keras<2.10.0,>=2.9.0rc0 in /usr/local/lib/python3.7/dist-packages (from tensorflow) (2.9.0)\n",
            "Requirement already satisfied: grpcio<2.0,>=1.24.3 in /usr/local/lib/python3.7/dist-packages (from tensorflow) (1.50.0)\n",
            "Requirement already satisfied: tensorflow-estimator<2.10.0,>=2.9.0rc0 in /usr/local/lib/python3.7/dist-packages (from tensorflow) (2.9.0)\n",
            "Requirement already satisfied: six>=1.12.0 in /usr/local/lib/python3.7/dist-packages (from tensorflow) (1.15.0)\n",
            "Requirement already satisfied: keras-preprocessing>=1.1.1 in /usr/local/lib/python3.7/dist-packages (from tensorflow) (1.1.2)\n",
            "Requirement already satisfied: google-pasta>=0.1.1 in /usr/local/lib/python3.7/dist-packages (from tensorflow) (0.2.0)\n",
            "Requirement already satisfied: numpy>=1.20 in /usr/local/lib/python3.7/dist-packages (from tensorflow) (1.21.6)\n",
            "Requirement already satisfied: absl-py>=1.0.0 in /usr/local/lib/python3.7/dist-packages (from tensorflow) (1.3.0)\n",
            "Requirement already satisfied: protobuf<3.20,>=3.9.2 in /usr/local/lib/python3.7/dist-packages (from tensorflow) (3.19.6)\n",
            "Requirement already satisfied: setuptools in /usr/local/lib/python3.7/dist-packages (from tensorflow) (57.4.0)\n",
            "Requirement already satisfied: astunparse>=1.6.0 in /usr/local/lib/python3.7/dist-packages (from tensorflow) (1.6.3)\n",
            "Requirement already satisfied: gast<=0.4.0,>=0.2.1 in /usr/local/lib/python3.7/dist-packages (from tensorflow) (0.4.0)\n",
            "Requirement already satisfied: tensorboard<2.10,>=2.9 in /usr/local/lib/python3.7/dist-packages (from tensorflow) (2.9.1)\n",
            "Requirement already satisfied: flatbuffers<2,>=1.12 in /usr/local/lib/python3.7/dist-packages (from tensorflow) (1.12)\n",
            "Requirement already satisfied: typing-extensions>=3.6.6 in /usr/local/lib/python3.7/dist-packages (from tensorflow) (4.1.1)\n",
            "Requirement already satisfied: termcolor>=1.1.0 in /usr/local/lib/python3.7/dist-packages (from tensorflow) (2.1.0)\n",
            "Requirement already satisfied: h5py>=2.9.0 in /usr/local/lib/python3.7/dist-packages (from tensorflow) (3.1.0)\n",
            "Requirement already satisfied: libclang>=13.0.0 in /usr/local/lib/python3.7/dist-packages (from tensorflow) (14.0.6)\n",
            "Requirement already satisfied: wrapt>=1.11.0 in /usr/local/lib/python3.7/dist-packages (from tensorflow) (1.14.1)\n",
            "Requirement already satisfied: packaging in /usr/local/lib/python3.7/dist-packages (from tensorflow) (21.3)\n",
            "Requirement already satisfied: opt-einsum>=2.3.2 in /usr/local/lib/python3.7/dist-packages (from tensorflow) (3.3.0)\n",
            "Requirement already satisfied: tensorflow-io-gcs-filesystem>=0.23.1 in /usr/local/lib/python3.7/dist-packages (from tensorflow) (0.27.0)\n",
            "Requirement already satisfied: wheel<1.0,>=0.23.0 in /usr/local/lib/python3.7/dist-packages (from astunparse>=1.6.0->tensorflow) (0.38.3)\n",
            "Requirement already satisfied: cached-property in /usr/local/lib/python3.7/dist-packages (from h5py>=2.9.0->tensorflow) (1.5.2)\n",
            "Requirement already satisfied: google-auth<3,>=1.6.3 in /usr/local/lib/python3.7/dist-packages (from tensorboard<2.10,>=2.9->tensorflow) (2.14.1)\n",
            "Requirement already satisfied: werkzeug>=1.0.1 in /usr/local/lib/python3.7/dist-packages (from tensorboard<2.10,>=2.9->tensorflow) (1.0.1)\n",
            "Requirement already satisfied: google-auth-oauthlib<0.5,>=0.4.1 in /usr/local/lib/python3.7/dist-packages (from tensorboard<2.10,>=2.9->tensorflow) (0.4.6)\n",
            "Requirement already satisfied: tensorboard-data-server<0.7.0,>=0.6.0 in /usr/local/lib/python3.7/dist-packages (from tensorboard<2.10,>=2.9->tensorflow) (0.6.1)\n",
            "Requirement already satisfied: requests<3,>=2.21.0 in /usr/local/lib/python3.7/dist-packages (from tensorboard<2.10,>=2.9->tensorflow) (2.23.0)\n",
            "Requirement already satisfied: markdown>=2.6.8 in /usr/local/lib/python3.7/dist-packages (from tensorboard<2.10,>=2.9->tensorflow) (3.4.1)\n",
            "Requirement already satisfied: tensorboard-plugin-wit>=1.6.0 in /usr/local/lib/python3.7/dist-packages (from tensorboard<2.10,>=2.9->tensorflow) (1.8.1)\n",
            "Requirement already satisfied: rsa<5,>=3.1.4 in /usr/local/lib/python3.7/dist-packages (from google-auth<3,>=1.6.3->tensorboard<2.10,>=2.9->tensorflow) (4.9)\n",
            "Requirement already satisfied: cachetools<6.0,>=2.0.0 in /usr/local/lib/python3.7/dist-packages (from google-auth<3,>=1.6.3->tensorboard<2.10,>=2.9->tensorflow) (5.2.0)\n",
            "Requirement already satisfied: pyasn1-modules>=0.2.1 in /usr/local/lib/python3.7/dist-packages (from google-auth<3,>=1.6.3->tensorboard<2.10,>=2.9->tensorflow) (0.2.8)\n",
            "Requirement already satisfied: requests-oauthlib>=0.7.0 in /usr/local/lib/python3.7/dist-packages (from google-auth-oauthlib<0.5,>=0.4.1->tensorboard<2.10,>=2.9->tensorflow) (1.3.1)\n",
            "Requirement already satisfied: importlib-metadata>=4.4 in /usr/local/lib/python3.7/dist-packages (from markdown>=2.6.8->tensorboard<2.10,>=2.9->tensorflow) (4.13.0)\n",
            "Requirement already satisfied: zipp>=0.5 in /usr/local/lib/python3.7/dist-packages (from importlib-metadata>=4.4->markdown>=2.6.8->tensorboard<2.10,>=2.9->tensorflow) (3.10.0)\n",
            "Requirement already satisfied: pyasn1<0.5.0,>=0.4.6 in /usr/local/lib/python3.7/dist-packages (from pyasn1-modules>=0.2.1->google-auth<3,>=1.6.3->tensorboard<2.10,>=2.9->tensorflow) (0.4.8)\n",
            "Requirement already satisfied: urllib3!=1.25.0,!=1.25.1,<1.26,>=1.21.1 in /usr/local/lib/python3.7/dist-packages (from requests<3,>=2.21.0->tensorboard<2.10,>=2.9->tensorflow) (1.24.3)\n",
            "Requirement already satisfied: idna<3,>=2.5 in /usr/local/lib/python3.7/dist-packages (from requests<3,>=2.21.0->tensorboard<2.10,>=2.9->tensorflow) (2.10)\n",
            "Requirement already satisfied: chardet<4,>=3.0.2 in /usr/local/lib/python3.7/dist-packages (from requests<3,>=2.21.0->tensorboard<2.10,>=2.9->tensorflow) (3.0.4)\n",
            "Requirement already satisfied: certifi>=2017.4.17 in /usr/local/lib/python3.7/dist-packages (from requests<3,>=2.21.0->tensorboard<2.10,>=2.9->tensorflow) (2022.9.24)\n",
            "Requirement already satisfied: oauthlib>=3.0.0 in /usr/local/lib/python3.7/dist-packages (from requests-oauthlib>=0.7.0->google-auth-oauthlib<0.5,>=0.4.1->tensorboard<2.10,>=2.9->tensorflow) (3.2.2)\n",
            "Requirement already satisfied: pyparsing!=3.0.5,>=2.0.2 in /usr/local/lib/python3.7/dist-packages (from packaging->tensorflow) (3.0.9)\n"
          ]
        }
      ]
    },
    {
      "cell_type": "markdown",
      "source": [
        "## Import libraries\n",
        "\n",
        "It is good practice to import all dependencies at the beginning of Jupyter Notebok (after cloning the repository and installing the dependencies)."
      ],
      "metadata": {
        "id": "esFZKJZamSVg"
      }
    },
    {
      "cell_type": "code",
      "source": [
        "import pandas as pd\n",
        "import tensorflow as tf\n",
        "from keras import layers\n",
        "from keras.callbacks import ModelCheckpoint\n",
        "\n",
        "import numpy as np\n",
        "import matplotlib.pyplot as plt\n",
        "import cv2 as cv\n",
        "import os\n",
        "from sklearn.model_selection import train_test_split\n",
        "\n",
        "from sklearn.metrics import f1_score, precision_score, recall_score, confusion_matrix, classification_report"
      ],
      "metadata": {
        "id": "2zkP7hTJmmgg"
      },
      "execution_count": 4,
      "outputs": []
    },
    {
      "cell_type": "code",
      "source": [
        "# Check tensorflow version\n",
        "tf. __version__"
      ],
      "metadata": {
        "colab": {
          "base_uri": "https://localhost:8080/",
          "height": 35
        },
        "id": "rTV6uK4FnvrI",
        "outputId": "b8727c6d-84ca-4b69-c825-d8b516a9d2e6"
      },
      "execution_count": 5,
      "outputs": [
        {
          "output_type": "execute_result",
          "data": {
            "text/plain": [
              "'2.9.2'"
            ],
            "application/vnd.google.colaboratory.intrinsic+json": {
              "type": "string"
            }
          },
          "metadata": {},
          "execution_count": 5
        }
      ]
    },
    {
      "cell_type": "code",
      "source": [
        "%cd /content/Schneider_Electric_Hackathon-Deforestation"
      ],
      "metadata": {
        "colab": {
          "base_uri": "https://localhost:8080/"
        },
        "id": "UCctUPDlxIY3",
        "outputId": "4fb55856-b531-434d-99c6-22c8225e5b92"
      },
      "execution_count": 6,
      "outputs": [
        {
          "output_type": "stream",
          "name": "stdout",
          "text": [
            "/content/Schneider_Electric_Hackathon-Deforestation\n"
          ]
        }
      ]
    },
    {
      "cell_type": "markdown",
      "source": [
        "## Loading data\n",
        "\n",
        "We load the data. First we load the information from the csven files into some pandas DataFrames. The paths to the images are in one of the columns of this DataFrames."
      ],
      "metadata": {
        "id": "g3vhp7lJk3xf"
      }
    },
    {
      "cell_type": "code",
      "source": [
        "train_df = pd.read_csv('data/train.csv')\n",
        "test_df = pd.read_csv('data/test.csv')"
      ],
      "metadata": {
        "id": "NZWh_4oAxCnV"
      },
      "execution_count": 7,
      "outputs": []
    },
    {
      "cell_type": "code",
      "source": [
        "train_df"
      ],
      "metadata": {
        "colab": {
          "base_uri": "https://localhost:8080/",
          "height": 424
        },
        "id": "1YnjPvegxoqu",
        "outputId": "353655a7-0703-42ee-b92d-d04c5e4b97ad"
      },
      "execution_count": 8,
      "outputs": [
        {
          "output_type": "execute_result",
          "data": {
            "text/plain": [
              "      label  latitude   longitude  year                    example_path\n",
              "0         0 -2.051853  111.826093  2001  train_test_data/train/1297.png\n",
              "1         2 -1.989349  105.309496  2013  train_test_data/train/1199.png\n",
              "2         0  1.223256  100.702217  2014  train_test_data/train/1348.png\n",
              "3         0 -2.342948  103.890226  2008  train_test_data/train/2214.png\n",
              "4         0 -0.126555  101.758175  2011  train_test_data/train/2220.png\n",
              "...     ...       ...         ...   ...                             ...\n",
              "1709      0  3.819464  117.636112  2016   train_test_data/train/550.png\n",
              "1710      0 -1.809594  111.531951  2005  train_test_data/train/2264.png\n",
              "1711      1  0.443397  112.200163  2012  train_test_data/train/1486.png\n",
              "1712      2 -1.978349  101.970148  2012  train_test_data/train/1170.png\n",
              "1713      2  0.780981  123.368557  2013   train_test_data/train/273.png\n",
              "\n",
              "[1714 rows x 5 columns]"
            ],
            "text/html": [
              "\n",
              "  <div id=\"df-4c6be44d-a6cc-4281-bd22-537f9ddfdaae\">\n",
              "    <div class=\"colab-df-container\">\n",
              "      <div>\n",
              "<style scoped>\n",
              "    .dataframe tbody tr th:only-of-type {\n",
              "        vertical-align: middle;\n",
              "    }\n",
              "\n",
              "    .dataframe tbody tr th {\n",
              "        vertical-align: top;\n",
              "    }\n",
              "\n",
              "    .dataframe thead th {\n",
              "        text-align: right;\n",
              "    }\n",
              "</style>\n",
              "<table border=\"1\" class=\"dataframe\">\n",
              "  <thead>\n",
              "    <tr style=\"text-align: right;\">\n",
              "      <th></th>\n",
              "      <th>label</th>\n",
              "      <th>latitude</th>\n",
              "      <th>longitude</th>\n",
              "      <th>year</th>\n",
              "      <th>example_path</th>\n",
              "    </tr>\n",
              "  </thead>\n",
              "  <tbody>\n",
              "    <tr>\n",
              "      <th>0</th>\n",
              "      <td>0</td>\n",
              "      <td>-2.051853</td>\n",
              "      <td>111.826093</td>\n",
              "      <td>2001</td>\n",
              "      <td>train_test_data/train/1297.png</td>\n",
              "    </tr>\n",
              "    <tr>\n",
              "      <th>1</th>\n",
              "      <td>2</td>\n",
              "      <td>-1.989349</td>\n",
              "      <td>105.309496</td>\n",
              "      <td>2013</td>\n",
              "      <td>train_test_data/train/1199.png</td>\n",
              "    </tr>\n",
              "    <tr>\n",
              "      <th>2</th>\n",
              "      <td>0</td>\n",
              "      <td>1.223256</td>\n",
              "      <td>100.702217</td>\n",
              "      <td>2014</td>\n",
              "      <td>train_test_data/train/1348.png</td>\n",
              "    </tr>\n",
              "    <tr>\n",
              "      <th>3</th>\n",
              "      <td>0</td>\n",
              "      <td>-2.342948</td>\n",
              "      <td>103.890226</td>\n",
              "      <td>2008</td>\n",
              "      <td>train_test_data/train/2214.png</td>\n",
              "    </tr>\n",
              "    <tr>\n",
              "      <th>4</th>\n",
              "      <td>0</td>\n",
              "      <td>-0.126555</td>\n",
              "      <td>101.758175</td>\n",
              "      <td>2011</td>\n",
              "      <td>train_test_data/train/2220.png</td>\n",
              "    </tr>\n",
              "    <tr>\n",
              "      <th>...</th>\n",
              "      <td>...</td>\n",
              "      <td>...</td>\n",
              "      <td>...</td>\n",
              "      <td>...</td>\n",
              "      <td>...</td>\n",
              "    </tr>\n",
              "    <tr>\n",
              "      <th>1709</th>\n",
              "      <td>0</td>\n",
              "      <td>3.819464</td>\n",
              "      <td>117.636112</td>\n",
              "      <td>2016</td>\n",
              "      <td>train_test_data/train/550.png</td>\n",
              "    </tr>\n",
              "    <tr>\n",
              "      <th>1710</th>\n",
              "      <td>0</td>\n",
              "      <td>-1.809594</td>\n",
              "      <td>111.531951</td>\n",
              "      <td>2005</td>\n",
              "      <td>train_test_data/train/2264.png</td>\n",
              "    </tr>\n",
              "    <tr>\n",
              "      <th>1711</th>\n",
              "      <td>1</td>\n",
              "      <td>0.443397</td>\n",
              "      <td>112.200163</td>\n",
              "      <td>2012</td>\n",
              "      <td>train_test_data/train/1486.png</td>\n",
              "    </tr>\n",
              "    <tr>\n",
              "      <th>1712</th>\n",
              "      <td>2</td>\n",
              "      <td>-1.978349</td>\n",
              "      <td>101.970148</td>\n",
              "      <td>2012</td>\n",
              "      <td>train_test_data/train/1170.png</td>\n",
              "    </tr>\n",
              "    <tr>\n",
              "      <th>1713</th>\n",
              "      <td>2</td>\n",
              "      <td>0.780981</td>\n",
              "      <td>123.368557</td>\n",
              "      <td>2013</td>\n",
              "      <td>train_test_data/train/273.png</td>\n",
              "    </tr>\n",
              "  </tbody>\n",
              "</table>\n",
              "<p>1714 rows × 5 columns</p>\n",
              "</div>\n",
              "      <button class=\"colab-df-convert\" onclick=\"convertToInteractive('df-4c6be44d-a6cc-4281-bd22-537f9ddfdaae')\"\n",
              "              title=\"Convert this dataframe to an interactive table.\"\n",
              "              style=\"display:none;\">\n",
              "        \n",
              "  <svg xmlns=\"http://www.w3.org/2000/svg\" height=\"24px\"viewBox=\"0 0 24 24\"\n",
              "       width=\"24px\">\n",
              "    <path d=\"M0 0h24v24H0V0z\" fill=\"none\"/>\n",
              "    <path d=\"M18.56 5.44l.94 2.06.94-2.06 2.06-.94-2.06-.94-.94-2.06-.94 2.06-2.06.94zm-11 1L8.5 8.5l.94-2.06 2.06-.94-2.06-.94L8.5 2.5l-.94 2.06-2.06.94zm10 10l.94 2.06.94-2.06 2.06-.94-2.06-.94-.94-2.06-.94 2.06-2.06.94z\"/><path d=\"M17.41 7.96l-1.37-1.37c-.4-.4-.92-.59-1.43-.59-.52 0-1.04.2-1.43.59L10.3 9.45l-7.72 7.72c-.78.78-.78 2.05 0 2.83L4 21.41c.39.39.9.59 1.41.59.51 0 1.02-.2 1.41-.59l7.78-7.78 2.81-2.81c.8-.78.8-2.07 0-2.86zM5.41 20L4 18.59l7.72-7.72 1.47 1.35L5.41 20z\"/>\n",
              "  </svg>\n",
              "      </button>\n",
              "      \n",
              "  <style>\n",
              "    .colab-df-container {\n",
              "      display:flex;\n",
              "      flex-wrap:wrap;\n",
              "      gap: 12px;\n",
              "    }\n",
              "\n",
              "    .colab-df-convert {\n",
              "      background-color: #E8F0FE;\n",
              "      border: none;\n",
              "      border-radius: 50%;\n",
              "      cursor: pointer;\n",
              "      display: none;\n",
              "      fill: #1967D2;\n",
              "      height: 32px;\n",
              "      padding: 0 0 0 0;\n",
              "      width: 32px;\n",
              "    }\n",
              "\n",
              "    .colab-df-convert:hover {\n",
              "      background-color: #E2EBFA;\n",
              "      box-shadow: 0px 1px 2px rgba(60, 64, 67, 0.3), 0px 1px 3px 1px rgba(60, 64, 67, 0.15);\n",
              "      fill: #174EA6;\n",
              "    }\n",
              "\n",
              "    [theme=dark] .colab-df-convert {\n",
              "      background-color: #3B4455;\n",
              "      fill: #D2E3FC;\n",
              "    }\n",
              "\n",
              "    [theme=dark] .colab-df-convert:hover {\n",
              "      background-color: #434B5C;\n",
              "      box-shadow: 0px 1px 3px 1px rgba(0, 0, 0, 0.15);\n",
              "      filter: drop-shadow(0px 1px 2px rgba(0, 0, 0, 0.3));\n",
              "      fill: #FFFFFF;\n",
              "    }\n",
              "  </style>\n",
              "\n",
              "      <script>\n",
              "        const buttonEl =\n",
              "          document.querySelector('#df-4c6be44d-a6cc-4281-bd22-537f9ddfdaae button.colab-df-convert');\n",
              "        buttonEl.style.display =\n",
              "          google.colab.kernel.accessAllowed ? 'block' : 'none';\n",
              "\n",
              "        async function convertToInteractive(key) {\n",
              "          const element = document.querySelector('#df-4c6be44d-a6cc-4281-bd22-537f9ddfdaae');\n",
              "          const dataTable =\n",
              "            await google.colab.kernel.invokeFunction('convertToInteractive',\n",
              "                                                     [key], {});\n",
              "          if (!dataTable) return;\n",
              "\n",
              "          const docLinkHtml = 'Like what you see? Visit the ' +\n",
              "            '<a target=\"_blank\" href=https://colab.research.google.com/notebooks/data_table.ipynb>data table notebook</a>'\n",
              "            + ' to learn more about interactive tables.';\n",
              "          element.innerHTML = '';\n",
              "          dataTable['output_type'] = 'display_data';\n",
              "          await google.colab.output.renderOutput(dataTable, element);\n",
              "          const docLink = document.createElement('div');\n",
              "          docLink.innerHTML = docLinkHtml;\n",
              "          element.appendChild(docLink);\n",
              "        }\n",
              "      </script>\n",
              "    </div>\n",
              "  </div>\n",
              "  "
            ]
          },
          "metadata": {},
          "execution_count": 8
        }
      ]
    },
    {
      "cell_type": "code",
      "source": [
        "test_df"
      ],
      "metadata": {
        "colab": {
          "base_uri": "https://localhost:8080/",
          "height": 424
        },
        "id": "Vm8C3LXJxqV-",
        "outputId": "e5f6d9cf-238a-4b74-9524-5894a60e0464"
      },
      "execution_count": 9,
      "outputs": [
        {
          "output_type": "execute_result",
          "data": {
            "text/plain": [
              "     latitude   longitude  year                   example_path\n",
              "0    0.761681  122.755954  2006    train_test_data/test/69.png\n",
              "1   -8.059785  113.053791  2007   train_test_data/test/469.png\n",
              "2   -2.006610  111.746316  2002     train_test_data/test/6.png\n",
              "3    0.901765  114.042495  2016   train_test_data/test/351.png\n",
              "4    1.911210  100.829633  2008  train_test_data/test/1001.png\n",
              "..        ...         ...   ...                            ...\n",
              "630  1.650899  101.314723  2011   train_test_data/test/968.png\n",
              "631 -1.645649  102.612332  2010    train_test_data/test/54.png\n",
              "632 -0.557796  114.561609  2016   train_test_data/test/494.png\n",
              "633 -3.037549  113.872045  2009   train_test_data/test/287.png\n",
              "634 -0.724728  102.432386  2009   train_test_data/test/603.png\n",
              "\n",
              "[635 rows x 4 columns]"
            ],
            "text/html": [
              "\n",
              "  <div id=\"df-a7ac678f-3747-4d77-85e6-76acece808d7\">\n",
              "    <div class=\"colab-df-container\">\n",
              "      <div>\n",
              "<style scoped>\n",
              "    .dataframe tbody tr th:only-of-type {\n",
              "        vertical-align: middle;\n",
              "    }\n",
              "\n",
              "    .dataframe tbody tr th {\n",
              "        vertical-align: top;\n",
              "    }\n",
              "\n",
              "    .dataframe thead th {\n",
              "        text-align: right;\n",
              "    }\n",
              "</style>\n",
              "<table border=\"1\" class=\"dataframe\">\n",
              "  <thead>\n",
              "    <tr style=\"text-align: right;\">\n",
              "      <th></th>\n",
              "      <th>latitude</th>\n",
              "      <th>longitude</th>\n",
              "      <th>year</th>\n",
              "      <th>example_path</th>\n",
              "    </tr>\n",
              "  </thead>\n",
              "  <tbody>\n",
              "    <tr>\n",
              "      <th>0</th>\n",
              "      <td>0.761681</td>\n",
              "      <td>122.755954</td>\n",
              "      <td>2006</td>\n",
              "      <td>train_test_data/test/69.png</td>\n",
              "    </tr>\n",
              "    <tr>\n",
              "      <th>1</th>\n",
              "      <td>-8.059785</td>\n",
              "      <td>113.053791</td>\n",
              "      <td>2007</td>\n",
              "      <td>train_test_data/test/469.png</td>\n",
              "    </tr>\n",
              "    <tr>\n",
              "      <th>2</th>\n",
              "      <td>-2.006610</td>\n",
              "      <td>111.746316</td>\n",
              "      <td>2002</td>\n",
              "      <td>train_test_data/test/6.png</td>\n",
              "    </tr>\n",
              "    <tr>\n",
              "      <th>3</th>\n",
              "      <td>0.901765</td>\n",
              "      <td>114.042495</td>\n",
              "      <td>2016</td>\n",
              "      <td>train_test_data/test/351.png</td>\n",
              "    </tr>\n",
              "    <tr>\n",
              "      <th>4</th>\n",
              "      <td>1.911210</td>\n",
              "      <td>100.829633</td>\n",
              "      <td>2008</td>\n",
              "      <td>train_test_data/test/1001.png</td>\n",
              "    </tr>\n",
              "    <tr>\n",
              "      <th>...</th>\n",
              "      <td>...</td>\n",
              "      <td>...</td>\n",
              "      <td>...</td>\n",
              "      <td>...</td>\n",
              "    </tr>\n",
              "    <tr>\n",
              "      <th>630</th>\n",
              "      <td>1.650899</td>\n",
              "      <td>101.314723</td>\n",
              "      <td>2011</td>\n",
              "      <td>train_test_data/test/968.png</td>\n",
              "    </tr>\n",
              "    <tr>\n",
              "      <th>631</th>\n",
              "      <td>-1.645649</td>\n",
              "      <td>102.612332</td>\n",
              "      <td>2010</td>\n",
              "      <td>train_test_data/test/54.png</td>\n",
              "    </tr>\n",
              "    <tr>\n",
              "      <th>632</th>\n",
              "      <td>-0.557796</td>\n",
              "      <td>114.561609</td>\n",
              "      <td>2016</td>\n",
              "      <td>train_test_data/test/494.png</td>\n",
              "    </tr>\n",
              "    <tr>\n",
              "      <th>633</th>\n",
              "      <td>-3.037549</td>\n",
              "      <td>113.872045</td>\n",
              "      <td>2009</td>\n",
              "      <td>train_test_data/test/287.png</td>\n",
              "    </tr>\n",
              "    <tr>\n",
              "      <th>634</th>\n",
              "      <td>-0.724728</td>\n",
              "      <td>102.432386</td>\n",
              "      <td>2009</td>\n",
              "      <td>train_test_data/test/603.png</td>\n",
              "    </tr>\n",
              "  </tbody>\n",
              "</table>\n",
              "<p>635 rows × 4 columns</p>\n",
              "</div>\n",
              "      <button class=\"colab-df-convert\" onclick=\"convertToInteractive('df-a7ac678f-3747-4d77-85e6-76acece808d7')\"\n",
              "              title=\"Convert this dataframe to an interactive table.\"\n",
              "              style=\"display:none;\">\n",
              "        \n",
              "  <svg xmlns=\"http://www.w3.org/2000/svg\" height=\"24px\"viewBox=\"0 0 24 24\"\n",
              "       width=\"24px\">\n",
              "    <path d=\"M0 0h24v24H0V0z\" fill=\"none\"/>\n",
              "    <path d=\"M18.56 5.44l.94 2.06.94-2.06 2.06-.94-2.06-.94-.94-2.06-.94 2.06-2.06.94zm-11 1L8.5 8.5l.94-2.06 2.06-.94-2.06-.94L8.5 2.5l-.94 2.06-2.06.94zm10 10l.94 2.06.94-2.06 2.06-.94-2.06-.94-.94-2.06-.94 2.06-2.06.94z\"/><path d=\"M17.41 7.96l-1.37-1.37c-.4-.4-.92-.59-1.43-.59-.52 0-1.04.2-1.43.59L10.3 9.45l-7.72 7.72c-.78.78-.78 2.05 0 2.83L4 21.41c.39.39.9.59 1.41.59.51 0 1.02-.2 1.41-.59l7.78-7.78 2.81-2.81c.8-.78.8-2.07 0-2.86zM5.41 20L4 18.59l7.72-7.72 1.47 1.35L5.41 20z\"/>\n",
              "  </svg>\n",
              "      </button>\n",
              "      \n",
              "  <style>\n",
              "    .colab-df-container {\n",
              "      display:flex;\n",
              "      flex-wrap:wrap;\n",
              "      gap: 12px;\n",
              "    }\n",
              "\n",
              "    .colab-df-convert {\n",
              "      background-color: #E8F0FE;\n",
              "      border: none;\n",
              "      border-radius: 50%;\n",
              "      cursor: pointer;\n",
              "      display: none;\n",
              "      fill: #1967D2;\n",
              "      height: 32px;\n",
              "      padding: 0 0 0 0;\n",
              "      width: 32px;\n",
              "    }\n",
              "\n",
              "    .colab-df-convert:hover {\n",
              "      background-color: #E2EBFA;\n",
              "      box-shadow: 0px 1px 2px rgba(60, 64, 67, 0.3), 0px 1px 3px 1px rgba(60, 64, 67, 0.15);\n",
              "      fill: #174EA6;\n",
              "    }\n",
              "\n",
              "    [theme=dark] .colab-df-convert {\n",
              "      background-color: #3B4455;\n",
              "      fill: #D2E3FC;\n",
              "    }\n",
              "\n",
              "    [theme=dark] .colab-df-convert:hover {\n",
              "      background-color: #434B5C;\n",
              "      box-shadow: 0px 1px 3px 1px rgba(0, 0, 0, 0.15);\n",
              "      filter: drop-shadow(0px 1px 2px rgba(0, 0, 0, 0.3));\n",
              "      fill: #FFFFFF;\n",
              "    }\n",
              "  </style>\n",
              "\n",
              "      <script>\n",
              "        const buttonEl =\n",
              "          document.querySelector('#df-a7ac678f-3747-4d77-85e6-76acece808d7 button.colab-df-convert');\n",
              "        buttonEl.style.display =\n",
              "          google.colab.kernel.accessAllowed ? 'block' : 'none';\n",
              "\n",
              "        async function convertToInteractive(key) {\n",
              "          const element = document.querySelector('#df-a7ac678f-3747-4d77-85e6-76acece808d7');\n",
              "          const dataTable =\n",
              "            await google.colab.kernel.invokeFunction('convertToInteractive',\n",
              "                                                     [key], {});\n",
              "          if (!dataTable) return;\n",
              "\n",
              "          const docLinkHtml = 'Like what you see? Visit the ' +\n",
              "            '<a target=\"_blank\" href=https://colab.research.google.com/notebooks/data_table.ipynb>data table notebook</a>'\n",
              "            + ' to learn more about interactive tables.';\n",
              "          element.innerHTML = '';\n",
              "          dataTable['output_type'] = 'display_data';\n",
              "          await google.colab.output.renderOutput(dataTable, element);\n",
              "          const docLink = document.createElement('div');\n",
              "          docLink.innerHTML = docLinkHtml;\n",
              "          element.appendChild(docLink);\n",
              "        }\n",
              "      </script>\n",
              "    </div>\n",
              "  </div>\n",
              "  "
            ]
          },
          "metadata": {},
          "execution_count": 9
        }
      ]
    },
    {
      "cell_type": "markdown",
      "source": [
        "### Loading images\n",
        "\n",
        "We load the images into NumPy arrays"
      ],
      "metadata": {
        "id": "jSFEP0Uct2sm"
      }
    },
    {
      "cell_type": "code",
      "source": [
        "# Path to training images\n",
        "img_path_train = train_df['example_path']\n",
        "# Accesing all to training data\n",
        "x_train = []\n",
        "# Reading all images\n",
        "for i in img_path_train:\n",
        "    img = cv.imread(os.path.join('data',i))\n",
        "    if img is not None:\n",
        "        x_train.append(img)\n",
        "        \n",
        "# Converting the type from list to NumPy array\n",
        "x_train = np.array(x_train)"
      ],
      "metadata": {
        "id": "o_s5Fn-0yIr_"
      },
      "execution_count": 10,
      "outputs": []
    },
    {
      "cell_type": "code",
      "source": [
        "# Accesing all to testing data\n",
        "# Path to all images\n",
        "img_path_test = test_df['example_path']\n",
        "x_test = []\n",
        "# Reading all images\n",
        "for i in img_path_test:\n",
        "    img = cv.imread(os.path.join('data',i))\n",
        "    if img is not None:\n",
        "        x_test.append(img)\n",
        "        \n",
        "# Converting the type from list to NumPy array\n",
        "x_test = np.array(x_test)"
      ],
      "metadata": {
        "id": "IK1wY5Xx1fT8"
      },
      "execution_count": 11,
      "outputs": []
    },
    {
      "cell_type": "code",
      "source": [
        "# Accesing to an image\n",
        "img0 = cv.imread(os.path.join('data',img_path_train[0]))\n",
        "plt.imshow(img0)"
      ],
      "metadata": {
        "colab": {
          "base_uri": "https://localhost:8080/",
          "height": 286
        },
        "id": "Ou-EUxkoyAqJ",
        "outputId": "9d3f4ffb-5109-486b-8ac9-1b743224d0bf"
      },
      "execution_count": 12,
      "outputs": [
        {
          "output_type": "execute_result",
          "data": {
            "text/plain": [
              "<matplotlib.image.AxesImage at 0x7f08d5e21fd0>"
            ]
          },
          "metadata": {},
          "execution_count": 12
        },
        {
          "output_type": "display_data",
          "data": {
            "text/plain": [
              "<Figure size 432x288 with 1 Axes>"
            ],
            "image/png": "[encoded data removed]"
          },
          "metadata": {
            "needs_background": "light"
          }
        }
      ]
    },
    {
      "cell_type": "markdown",
      "source": [
        "## Looking for Null Values.\n",
        "\n",
        "It is important to check the existance of NaN values on each of the features DataFrames. \n",
        "- By using the method .isnull() we evaluate each object in the DataFrame and provide a boolean value indicating if the data is missing or not.\n",
        "- By using the method .sum() we determine how many missing values exist in the collection."
      ],
      "metadata": {
        "id": "AxxZgHdfxvHe"
      }
    },
    {
      "cell_type": "code",
      "source": [
        "train_df.isnull().sum()"
      ],
      "metadata": {
        "colab": {
          "base_uri": "https://localhost:8080/"
        },
        "id": "Of6KBW0fxyT8",
        "outputId": "3fc741b8-0bb6-44b3-bbe8-7f393b834c62"
      },
      "execution_count": 13,
      "outputs": [
        {
          "output_type": "execute_result",
          "data": {
            "text/plain": [
              "label           0\n",
              "latitude        0\n",
              "longitude       0\n",
              "year            0\n",
              "example_path    0\n",
              "dtype: int64"
            ]
          },
          "metadata": {},
          "execution_count": 13
        }
      ]
    },
    {
      "cell_type": "code",
      "source": [
        "test_df.isnull().sum()"
      ],
      "metadata": {
        "colab": {
          "base_uri": "https://localhost:8080/"
        },
        "id": "ynDNZ2b9x0KK",
        "outputId": "bacdc2fb-a68a-4e02-9bf7-de8b99aab328"
      },
      "execution_count": 14,
      "outputs": [
        {
          "output_type": "execute_result",
          "data": {
            "text/plain": [
              "latitude        0\n",
              "longitude       0\n",
              "year            0\n",
              "example_path    0\n",
              "dtype: int64"
            ]
          },
          "metadata": {},
          "execution_count": 14
        }
      ]
    },
    {
      "cell_type": "markdown",
      "source": [
        "As we can appreciate, there are no missing values in any of the features DataFrames, therefore we can continue with the next section."
      ],
      "metadata": {
        "id": "bHdFC6k3x2bQ"
      }
    },
    {
      "cell_type": "markdown",
      "source": [
        "## Preprocessing data\n",
        "\n",
        "In this section we will explore the different characteristics of the given dataset."
      ],
      "metadata": {
        "id": "rW0_lAgOk5sQ"
      }
    },
    {
      "cell_type": "code",
      "source": [
        "# Shape of the dataset\n",
        "print(f\"x_train shape: {x_train.shape}\")\n",
        "print(f\"x_test shape: {x_test.shape}\")\n",
        "# Min and Max Values of the pixels\n",
        "print(f\"Min pixel value: {x_train.min()}; Max pixel value: {x_train.max()}\")"
      ],
      "metadata": {
        "colab": {
          "base_uri": "https://localhost:8080/"
        },
        "id": "X0bKayLnyfNm",
        "outputId": "341d4ca8-ac97-462e-d6c6-599f0d82b6a6"
      },
      "execution_count": 15,
      "outputs": [
        {
          "output_type": "stream",
          "name": "stdout",
          "text": [
            "x_train shape: (1714, 332, 332, 3)\n",
            "x_test shape: (635, 332, 332, 3)\n",
            "Min pixel value: 0; Max pixel value: 255\n"
          ]
        }
      ]
    },
    {
      "cell_type": "code",
      "source": [
        "# Creating labels array\n",
        "y_train = train_df['label']\n",
        "n_categories = y_train.nunique()\n",
        "print(y_train)\n",
        "print(\"Number of categories: \" + str(n_categories))"
      ],
      "metadata": {
        "colab": {
          "base_uri": "https://localhost:8080/"
        },
        "id": "GSgyQycCyuLn",
        "outputId": "8d6681e6-8799-4750-d6b8-845c408729bd"
      },
      "execution_count": 16,
      "outputs": [
        {
          "output_type": "stream",
          "name": "stdout",
          "text": [
            "0       0\n",
            "1       2\n",
            "2       0\n",
            "3       0\n",
            "4       0\n",
            "       ..\n",
            "1709    0\n",
            "1710    0\n",
            "1711    1\n",
            "1712    2\n",
            "1713    2\n",
            "Name: label, Length: 1714, dtype: int64\n",
            "Number of categories: 3\n"
          ]
        }
      ]
    },
    {
      "cell_type": "markdown",
      "source": [
        "We split the training set into two subsets, one for model training and one for validation:"
      ],
      "metadata": {
        "id": "Nbl4144FvruV"
      }
    },
    {
      "cell_type": "code",
      "source": [
        "# Split the data into train/validation dataset\n",
        "X_train, X_valid, y_train, y_valid = train_test_split(x_train, y_train, test_size = 0.20)"
      ],
      "metadata": {
        "id": "qxBaPFMG05CX"
      },
      "execution_count": 17,
      "outputs": []
    },
    {
      "cell_type": "markdown",
      "source": [
        "## Check balance data\n",
        "\n",
        "We check if the training labels are balanced on the problem."
      ],
      "metadata": {
        "id": "6M8LRXBjR4zu"
      }
    },
    {
      "cell_type": "code",
      "source": [
        "#get unique values and counts of each value\n",
        "unique, counts = np.unique(y_train, return_counts=True)\n",
        "print(f\"Unique: {unique}\")\n",
        "print(f\"Counts: {counts}\")"
      ],
      "metadata": {
        "colab": {
          "base_uri": "https://localhost:8080/"
        },
        "id": "4qLsYFXvR72j",
        "outputId": "23a40772-d6bd-4113-b20b-0d8cc4f418ec"
      },
      "execution_count": 18,
      "outputs": [
        {
          "output_type": "stream",
          "name": "stdout",
          "text": [
            "Unique: [0 1 2]\n",
            "Counts: [675 159 537]\n"
          ]
        }
      ]
    },
    {
      "cell_type": "markdown",
      "source": [
        "As we can see, the class with value 1 has far fewer samples than the rest of the classes.\n",
        "\n",
        "To address this problem, we will establish weights for each of the categories, which will be taken into account when training the model.\n",
        "\n",
        "These weightings shall be made according to the proportion of each of the categories."
      ],
      "metadata": {
        "id": "n5LhHsncwZ_9"
      }
    },
    {
      "cell_type": "code",
      "source": [
        "# Scaling by total/3 helps keep the loss to a similar magnitude.\n",
        "# The sum of the weights of all examples stays the same.\n",
        "weight_for_0 = (1 / counts[0] ) * (counts[0] + counts[1] + counts[2] / 3.0)\n",
        "weight_for_1 = (1 / counts[1] ) * (counts[0] + counts[1] + counts[2] / 3.0)\n",
        "weight_for_2 = (1 / counts[2] ) * (counts[0] + counts[1] + counts[2] / 3.0)\n",
        "\n",
        "class_weight = {0: weight_for_0, 1: weight_for_1, 2: weight_for_2}\n",
        "\n",
        "print('Weight for class 0: {:.2f}'.format(weight_for_0))\n",
        "print('Weight for class 1: {:.2f}'.format(weight_for_1))\n",
        "print('Weight for class 2: {:.2f}'.format(weight_for_2))"
      ],
      "metadata": {
        "colab": {
          "base_uri": "https://localhost:8080/"
        },
        "id": "_5HqCG7sR8O9",
        "outputId": "95b31b98-ee28-4bfc-c5ac-63840338ca78"
      },
      "execution_count": 19,
      "outputs": [
        {
          "output_type": "stream",
          "name": "stdout",
          "text": [
            "Weight for class 0: 1.50\n",
            "Weight for class 1: 6.37\n",
            "Weight for class 2: 1.89\n"
          ]
        }
      ]
    },
    {
      "cell_type": "markdown",
      "source": [
        "The categories are converted into binary variables to facilitate the training of the model."
      ],
      "metadata": {
        "id": "MRvqm-H-w3Ha"
      }
    },
    {
      "cell_type": "code",
      "source": [
        "# One-hot encode the labels\n",
        "y_train_OHE = tf.keras.utils.to_categorical(y_train, n_categories)\n",
        "y_valid_OHE = tf.keras.utils.to_categorical(y_valid, n_categories)"
      ],
      "metadata": {
        "id": "-K1LhOmk3e3k"
      },
      "execution_count": 20,
      "outputs": []
    },
    {
      "cell_type": "code",
      "source": [
        "print(\"x_train shape: \", X_train.shape)\n",
        "print(\"x_valid shape: \", X_valid.shape)\n",
        "print(\"x_test shape: \", x_test.shape)\n",
        "print(\"y_train_OHE shape: \", y_train_OHE.shape)\n",
        "print(\"y_valid_OHE shape: \", y_valid_OHE.shape)"
      ],
      "metadata": {
        "colab": {
          "base_uri": "https://localhost:8080/"
        },
        "id": "Tkgijhon4im2",
        "outputId": "ed281690-7c12-454a-897e-454a9d5629f9"
      },
      "execution_count": 21,
      "outputs": [
        {
          "output_type": "stream",
          "name": "stdout",
          "text": [
            "x_train shape:  (1371, 332, 332, 3)\n",
            "x_valid shape:  (343, 332, 332, 3)\n",
            "x_test shape:  (635, 332, 332, 3)\n",
            "y_train_OHE shape:  (1371, 3)\n",
            "y_valid_OHE shape:  (343, 3)\n"
          ]
        }
      ]
    },
    {
      "cell_type": "markdown",
      "source": [
        "## Resize, rescale and data augmentation\n",
        "\n",
        "One of the things we can do to help training the model is to rescale the images, thus decreasing the size, normalise the pixel values between 0 and 1 and do a little pre-processing to increase the training set."
      ],
      "metadata": {
        "id": "jXJRk2qsOoT7"
      }
    },
    {
      "cell_type": "code",
      "source": [
        "IMG_SIZE = 300\n",
        "\n",
        "resize_and_rescale = tf.keras.Sequential([\n",
        "  layers.Resizing(IMG_SIZE, IMG_SIZE),\n",
        "  layers.Rescaling(1./255)\n",
        "])"
      ],
      "metadata": {
        "id": "HD9BLhLtOoE7"
      },
      "execution_count": 22,
      "outputs": []
    },
    {
      "cell_type": "code",
      "source": [
        "data_augmentation = tf.keras.Sequential([\n",
        "  layers.RandomFlip(\"horizontal_and_vertical\"),\n",
        "  layers.RandomRotation(0.2)\n",
        "])"
      ],
      "metadata": {
        "id": "O4zyDLFdPeWi"
      },
      "execution_count": 23,
      "outputs": []
    },
    {
      "cell_type": "markdown",
      "source": [
        "## Create model\n",
        "\n",
        "Let's try a CNN (Convolutional Neural Network)."
      ],
      "metadata": {
        "id": "7eRMTlvDk9m8"
      }
    },
    {
      "cell_type": "code",
      "source": [
        "model = tf.keras.Sequential()\n",
        "\n",
        "model.add(resize_and_rescale)\n",
        "model.add(data_augmentation)\n",
        "\n",
        "model.add(tf.keras.layers.Conv2D(filters=64, kernel_size=2, padding='same', activation='relu')) \n",
        "model.add(tf.keras.layers.MaxPooling2D(pool_size=2))\n",
        "model.add(tf.keras.layers.Dropout(0.3))\n",
        "\n",
        "model.add(tf.keras.layers.Conv2D(filters=32, kernel_size=2, padding='same', activation='relu'))\n",
        "model.add(tf.keras.layers.MaxPooling2D(pool_size=2))\n",
        "model.add(tf.keras.layers.Dropout(0.3))\n",
        "\n",
        "# model.add(tf.keras.layers.Conv2D(filters=16, kernel_size=2, padding='same', activation='relu'))\n",
        "# model.add(tf.keras.layers.MaxPooling2D(pool_size=2))\n",
        "# model.add(tf.keras.layers.Dropout(0.3))\n",
        "\n",
        "# model.add(tf.keras.layers.Conv2D(filters=16, kernel_size=2, padding='same', activation='relu'))\n",
        "# model.add(tf.keras.layers.MaxPooling2D(pool_size=2))\n",
        "# model.add(tf.keras.layers.Dropout(0.3))\n",
        "\n",
        "model.add(tf.keras.layers.Flatten())\n",
        "model.add(tf.keras.layers.Dense(128, activation='relu'))\n",
        "model.add(tf.keras.layers.Dropout(0.5))\n",
        "model.add(tf.keras.layers.Dense(n_categories, activation='softmax'))"
      ],
      "metadata": {
        "id": "ONgAqEHxlUZM"
      },
      "execution_count": 24,
      "outputs": []
    },
    {
      "cell_type": "code",
      "source": [
        "model.build((None, 332, 332, 3)) # `input_shape` is the shape of the input data\n",
        "\n",
        "model.summary()"
      ],
      "metadata": {
        "colab": {
          "base_uri": "https://localhost:8080/"
        },
        "id": "qSOm_NsZRIME",
        "outputId": "4bcfe9b9-98d3-41cb-b572-f7b501d67356"
      },
      "execution_count": 25,
      "outputs": [
        {
          "output_type": "stream",
          "name": "stdout",
          "text": [
            "Model: \"sequential_2\"\n",
            "_________________________________________________________________\n",
            " Layer (type)                Output Shape              Param #   \n",
            "=================================================================\n",
            " sequential (Sequential)     (None, 300, 300, 3)       0         \n",
            "                                                                 \n",
            " sequential_1 (Sequential)   (None, 300, 300, 3)       0         \n",
            "                                                                 \n",
            " conv2d (Conv2D)             (None, 300, 300, 64)      832       \n",
            "                                                                 \n",
            " max_pooling2d (MaxPooling2D  (None, 150, 150, 64)     0         \n",
            " )                                                               \n",
            "                                                                 \n",
            " dropout (Dropout)           (None, 150, 150, 64)      0         \n",
            "                                                                 \n",
            " conv2d_1 (Conv2D)           (None, 150, 150, 32)      8224      \n",
            "                                                                 \n",
            " max_pooling2d_1 (MaxPooling  (None, 75, 75, 32)       0         \n",
            " 2D)                                                             \n",
            "                                                                 \n",
            " dropout_1 (Dropout)         (None, 75, 75, 32)        0         \n",
            "                                                                 \n",
            " flatten (Flatten)           (None, 180000)            0         \n",
            "                                                                 \n",
            " dense (Dense)               (None, 128)               23040128  \n",
            "                                                                 \n",
            " dropout_2 (Dropout)         (None, 128)               0         \n",
            "                                                                 \n",
            " dense_1 (Dense)             (None, 3)                 387       \n",
            "                                                                 \n",
            "=================================================================\n",
            "Total params: 23,049,571\n",
            "Trainable params: 23,049,571\n",
            "Non-trainable params: 0\n",
            "_________________________________________________________________\n"
          ]
        }
      ]
    },
    {
      "cell_type": "markdown",
      "source": [
        "## Compile the model\n",
        "Configure the learning process with compile() API before training the model. It receives three arguments:\n",
        "\n",
        "*   An optimizer \n",
        "*   A loss function \n",
        "*   A list of metrics "
      ],
      "metadata": {
        "id": "tNkoKc7S6R3Q"
      }
    },
    {
      "cell_type": "code",
      "source": [
        "model.compile(loss='categorical_crossentropy',\n",
        "             optimizer='adam',\n",
        "             metrics=['categorical_accuracy'])"
      ],
      "metadata": {
        "id": "_dHzWlB26Q0G"
      },
      "execution_count": 26,
      "outputs": []
    },
    {
      "cell_type": "markdown",
      "source": [
        "## Training model\n",
        "\n",
        "We are now ready to train the model. Callbacks will be used to monitor the training of the model:\n",
        "\n",
        "\n",
        "*   EarlyStopping: to stop the model when no improvement in training is found\n",
        "*   ModelCheckpoint: to save the best model\n",
        "\n"
      ],
      "metadata": {
        "id": "T2nrlRWIk_75"
      }
    },
    {
      "cell_type": "code",
      "source": [
        "model_earlystopping_callback = tf.keras.callbacks.EarlyStopping(monitor='val_loss', patience=10)"
      ],
      "metadata": {
        "id": "W2yceQpEIIai"
      },
      "execution_count": 27,
      "outputs": []
    },
    {
      "cell_type": "code",
      "source": [
        "checkpoint_filepath = '/tmp/checkpoint'\n",
        "\n",
        "model_checkpoint_callback = tf.keras.callbacks.ModelCheckpoint(\n",
        "    filepath=checkpoint_filepath,\n",
        "    save_weights_only=True,\n",
        "    verbose = 1,\n",
        "    monitor='val_categorical_accuracy',\n",
        "    save_best_only=True)\n",
        "\n",
        "# checkpointer = ModelCheckpoint(filepath='model.weights.best.hdf5', verbose = 1, save_best_only=True)"
      ],
      "metadata": {
        "id": "-qX3-OoeCF6f"
      },
      "execution_count": 28,
      "outputs": []
    },
    {
      "cell_type": "code",
      "source": [
        "# Parameters\n",
        "batch_size=64\n",
        "epochs=500"
      ],
      "metadata": {
        "id": "3J31wbmLCO3z"
      },
      "execution_count": 29,
      "outputs": []
    },
    {
      "cell_type": "code",
      "source": [
        "history = model.fit(X_train,\n",
        "         y_train_OHE,\n",
        "         batch_size=batch_size,\n",
        "         epochs=epochs,\n",
        "         validation_data=(X_valid, y_valid_OHE),\n",
        "         callbacks=[model_checkpoint_callback, model_earlystopping_callback],\n",
        "         class_weight=class_weight)"
      ],
      "metadata": {
        "id": "WqOfBtx0omx5",
        "colab": {
          "base_uri": "https://localhost:8080/"
        },
        "outputId": "0c8bbc9b-83f8-4b2b-ea1d-373c0abee9d1"
      },
      "execution_count": 30,
      "outputs": [
        {
          "output_type": "stream",
          "name": "stdout",
          "text": [
            "Epoch 1/500\n",
            "22/22 [==============================] - ETA: 0s - loss: 5.8446 - categorical_accuracy: 0.2815\n",
            "Epoch 1: val_categorical_accuracy improved from -inf to 0.11370, saving model to /tmp/checkpoint\n",
            "22/22 [==============================] - 19s 402ms/step - loss: 5.8446 - categorical_accuracy: 0.2815 - val_loss: 1.0997 - val_categorical_accuracy: 0.1137\n",
            "Epoch 2/500\n",
            "22/22 [==============================] - ETA: 0s - loss: 2.4365 - categorical_accuracy: 0.3793\n",
            "Epoch 2: val_categorical_accuracy did not improve from 0.11370\n",
            "22/22 [==============================] - 7s 300ms/step - loss: 2.4365 - categorical_accuracy: 0.3793 - val_loss: 1.0992 - val_categorical_accuracy: 0.1079\n",
            "Epoch 3/500\n",
            "22/22 [==============================] - ETA: 0s - loss: 2.4350 - categorical_accuracy: 0.4624\n",
            "Epoch 3: val_categorical_accuracy did not improve from 0.11370\n",
            "22/22 [==============================] - 7s 298ms/step - loss: 2.4350 - categorical_accuracy: 0.4624 - val_loss: 1.0999 - val_categorical_accuracy: 0.1108\n",
            "Epoch 4/500\n",
            "22/22 [==============================] - ETA: 0s - loss: 2.4295 - categorical_accuracy: 0.3603\n",
            "Epoch 4: val_categorical_accuracy improved from 0.11370 to 0.14286, saving model to /tmp/checkpoint\n",
            "22/22 [==============================] - 7s 337ms/step - loss: 2.4295 - categorical_accuracy: 0.3603 - val_loss: 1.0988 - val_categorical_accuracy: 0.1429\n",
            "Epoch 5/500\n",
            "22/22 [==============================] - ETA: 0s - loss: 2.4103 - categorical_accuracy: 0.5113\n",
            "Epoch 5: val_categorical_accuracy improved from 0.14286 to 0.18367, saving model to /tmp/checkpoint\n",
            "22/22 [==============================] - 7s 339ms/step - loss: 2.4103 - categorical_accuracy: 0.5113 - val_loss: 1.1055 - val_categorical_accuracy: 0.1837\n",
            "Epoch 6/500\n",
            "22/22 [==============================] - ETA: 0s - loss: 2.4055 - categorical_accuracy: 0.4398\n",
            "Epoch 6: val_categorical_accuracy improved from 0.18367 to 0.54227, saving model to /tmp/checkpoint\n",
            "22/22 [==============================] - 7s 337ms/step - loss: 2.4055 - categorical_accuracy: 0.4398 - val_loss: 0.9794 - val_categorical_accuracy: 0.5423\n",
            "Epoch 7/500\n",
            "22/22 [==============================] - ETA: 0s - loss: 2.4085 - categorical_accuracy: 0.4172\n",
            "Epoch 7: val_categorical_accuracy did not improve from 0.54227\n",
            "22/22 [==============================] - 7s 302ms/step - loss: 2.4085 - categorical_accuracy: 0.4172 - val_loss: 1.0660 - val_categorical_accuracy: 0.4227\n",
            "Epoch 8/500\n",
            "22/22 [==============================] - ETA: 0s - loss: 2.3607 - categorical_accuracy: 0.3676\n",
            "Epoch 8: val_categorical_accuracy did not improve from 0.54227\n",
            "22/22 [==============================] - 7s 304ms/step - loss: 2.3607 - categorical_accuracy: 0.3676 - val_loss: 1.0126 - val_categorical_accuracy: 0.5073\n",
            "Epoch 9/500\n",
            "22/22 [==============================] - ETA: 0s - loss: 2.3720 - categorical_accuracy: 0.4624\n",
            "Epoch 9: val_categorical_accuracy did not improve from 0.54227\n",
            "22/22 [==============================] - 7s 331ms/step - loss: 2.3720 - categorical_accuracy: 0.4624 - val_loss: 1.0323 - val_categorical_accuracy: 0.4606\n",
            "Epoch 10/500\n",
            "22/22 [==============================] - ETA: 0s - loss: 2.3404 - categorical_accuracy: 0.4595\n",
            "Epoch 10: val_categorical_accuracy did not improve from 0.54227\n",
            "22/22 [==============================] - 7s 311ms/step - loss: 2.3404 - categorical_accuracy: 0.4595 - val_loss: 1.0270 - val_categorical_accuracy: 0.4461\n",
            "Epoch 11/500\n",
            "22/22 [==============================] - ETA: 0s - loss: 2.3494 - categorical_accuracy: 0.4289\n",
            "Epoch 11: val_categorical_accuracy did not improve from 0.54227\n",
            "22/22 [==============================] - 7s 305ms/step - loss: 2.3494 - categorical_accuracy: 0.4289 - val_loss: 1.1285 - val_categorical_accuracy: 0.1254\n",
            "Epoch 12/500\n",
            "22/22 [==============================] - ETA: 0s - loss: 2.4073 - categorical_accuracy: 0.2560\n",
            "Epoch 12: val_categorical_accuracy did not improve from 0.54227\n",
            "22/22 [==============================] - 7s 304ms/step - loss: 2.4073 - categorical_accuracy: 0.2560 - val_loss: 1.0846 - val_categorical_accuracy: 0.2915\n",
            "Epoch 13/500\n",
            "22/22 [==============================] - ETA: 0s - loss: 2.3641 - categorical_accuracy: 0.4486\n",
            "Epoch 13: val_categorical_accuracy did not improve from 0.54227\n",
            "22/22 [==============================] - 7s 306ms/step - loss: 2.3641 - categorical_accuracy: 0.4486 - val_loss: 1.0172 - val_categorical_accuracy: 0.4402\n",
            "Epoch 14/500\n",
            "22/22 [==============================] - ETA: 0s - loss: 2.3329 - categorical_accuracy: 0.4537\n",
            "Epoch 14: val_categorical_accuracy did not improve from 0.54227\n",
            "22/22 [==============================] - 7s 306ms/step - loss: 2.3329 - categorical_accuracy: 0.4537 - val_loss: 0.9270 - val_categorical_accuracy: 0.5306\n",
            "Epoch 15/500\n",
            "22/22 [==============================] - ETA: 0s - loss: 2.3102 - categorical_accuracy: 0.4515\n",
            "Epoch 15: val_categorical_accuracy did not improve from 0.54227\n",
            "22/22 [==============================] - 7s 305ms/step - loss: 2.3102 - categorical_accuracy: 0.4515 - val_loss: 1.0831 - val_categorical_accuracy: 0.3120\n",
            "Epoch 16/500\n",
            "22/22 [==============================] - ETA: 0s - loss: 2.3430 - categorical_accuracy: 0.4150\n",
            "Epoch 16: val_categorical_accuracy did not improve from 0.54227\n",
            "22/22 [==============================] - 7s 306ms/step - loss: 2.3430 - categorical_accuracy: 0.4150 - val_loss: 1.0968 - val_categorical_accuracy: 0.2362\n",
            "Epoch 17/500\n",
            "22/22 [==============================] - ETA: 0s - loss: 2.2953 - categorical_accuracy: 0.4427\n",
            "Epoch 17: val_categorical_accuracy did not improve from 0.54227\n",
            "22/22 [==============================] - 7s 304ms/step - loss: 2.2953 - categorical_accuracy: 0.4427 - val_loss: 1.0124 - val_categorical_accuracy: 0.4286\n",
            "Epoch 18/500\n",
            "22/22 [==============================] - ETA: 0s - loss: 2.2708 - categorical_accuracy: 0.4734\n",
            "Epoch 18: val_categorical_accuracy did not improve from 0.54227\n",
            "22/22 [==============================] - 7s 306ms/step - loss: 2.2708 - categorical_accuracy: 0.4734 - val_loss: 1.0187 - val_categorical_accuracy: 0.3936\n",
            "Epoch 19/500\n",
            "22/22 [==============================] - ETA: 0s - loss: 2.3075 - categorical_accuracy: 0.3997\n",
            "Epoch 19: val_categorical_accuracy did not improve from 0.54227\n",
            "22/22 [==============================] - 7s 305ms/step - loss: 2.3075 - categorical_accuracy: 0.3997 - val_loss: 1.0279 - val_categorical_accuracy: 0.4052\n",
            "Epoch 20/500\n",
            "22/22 [==============================] - ETA: 0s - loss: 2.3011 - categorical_accuracy: 0.4114\n",
            "Epoch 20: val_categorical_accuracy did not improve from 0.54227\n",
            "22/22 [==============================] - 7s 304ms/step - loss: 2.3011 - categorical_accuracy: 0.4114 - val_loss: 0.9731 - val_categorical_accuracy: 0.4577\n",
            "Epoch 21/500\n",
            "22/22 [==============================] - ETA: 0s - loss: 2.2576 - categorical_accuracy: 0.4588\n",
            "Epoch 21: val_categorical_accuracy did not improve from 0.54227\n",
            "22/22 [==============================] - 7s 304ms/step - loss: 2.2576 - categorical_accuracy: 0.4588 - val_loss: 1.0141 - val_categorical_accuracy: 0.3965\n",
            "Epoch 22/500\n",
            "22/22 [==============================] - ETA: 0s - loss: 2.2545 - categorical_accuracy: 0.4085\n",
            "Epoch 22: val_categorical_accuracy did not improve from 0.54227\n",
            "22/22 [==============================] - 7s 304ms/step - loss: 2.2545 - categorical_accuracy: 0.4085 - val_loss: 0.9400 - val_categorical_accuracy: 0.5102\n",
            "Epoch 23/500\n",
            "22/22 [==============================] - ETA: 0s - loss: 2.2500 - categorical_accuracy: 0.4165\n",
            "Epoch 23: val_categorical_accuracy improved from 0.54227 to 0.57726, saving model to /tmp/checkpoint\n",
            "22/22 [==============================] - 7s 341ms/step - loss: 2.2500 - categorical_accuracy: 0.4165 - val_loss: 0.8483 - val_categorical_accuracy: 0.5773\n",
            "Epoch 24/500\n",
            "22/22 [==============================] - ETA: 0s - loss: 2.2742 - categorical_accuracy: 0.4530\n",
            "Epoch 24: val_categorical_accuracy did not improve from 0.57726\n",
            "22/22 [==============================] - 7s 307ms/step - loss: 2.2742 - categorical_accuracy: 0.4530 - val_loss: 0.8940 - val_categorical_accuracy: 0.5714\n",
            "Epoch 25/500\n",
            "22/22 [==============================] - ETA: 0s - loss: 2.2122 - categorical_accuracy: 0.4632\n",
            "Epoch 25: val_categorical_accuracy did not improve from 0.57726\n",
            "22/22 [==============================] - 7s 306ms/step - loss: 2.2122 - categorical_accuracy: 0.4632 - val_loss: 0.8399 - val_categorical_accuracy: 0.5743\n",
            "Epoch 26/500\n",
            "22/22 [==============================] - ETA: 0s - loss: 2.2901 - categorical_accuracy: 0.3961\n",
            "Epoch 26: val_categorical_accuracy did not improve from 0.57726\n",
            "22/22 [==============================] - 7s 305ms/step - loss: 2.2901 - categorical_accuracy: 0.3961 - val_loss: 0.8545 - val_categorical_accuracy: 0.5685\n",
            "Epoch 27/500\n",
            "22/22 [==============================] - ETA: 0s - loss: 2.2084 - categorical_accuracy: 0.4741\n",
            "Epoch 27: val_categorical_accuracy did not improve from 0.57726\n",
            "22/22 [==============================] - 7s 306ms/step - loss: 2.2084 - categorical_accuracy: 0.4741 - val_loss: 0.8714 - val_categorical_accuracy: 0.5743\n",
            "Epoch 28/500\n",
            "22/22 [==============================] - ETA: 0s - loss: 2.1696 - categorical_accuracy: 0.4741\n",
            "Epoch 28: val_categorical_accuracy improved from 0.57726 to 0.58601, saving model to /tmp/checkpoint\n",
            "22/22 [==============================] - 8s 348ms/step - loss: 2.1696 - categorical_accuracy: 0.4741 - val_loss: 0.8421 - val_categorical_accuracy: 0.5860\n",
            "Epoch 29/500\n",
            "22/22 [==============================] - ETA: 0s - loss: 2.1581 - categorical_accuracy: 0.4909\n",
            "Epoch 29: val_categorical_accuracy improved from 0.58601 to 0.59767, saving model to /tmp/checkpoint\n",
            "22/22 [==============================] - 8s 345ms/step - loss: 2.1581 - categorical_accuracy: 0.4909 - val_loss: 0.8182 - val_categorical_accuracy: 0.5977\n",
            "Epoch 30/500\n",
            "22/22 [==============================] - ETA: 0s - loss: 2.2066 - categorical_accuracy: 0.4661\n",
            "Epoch 30: val_categorical_accuracy did not improve from 0.59767\n",
            "22/22 [==============================] - 7s 320ms/step - loss: 2.2066 - categorical_accuracy: 0.4661 - val_loss: 0.8743 - val_categorical_accuracy: 0.5598\n",
            "Epoch 31/500\n",
            "22/22 [==============================] - ETA: 0s - loss: 2.1434 - categorical_accuracy: 0.5047\n",
            "Epoch 31: val_categorical_accuracy did not improve from 0.59767\n",
            "22/22 [==============================] - 7s 303ms/step - loss: 2.1434 - categorical_accuracy: 0.5047 - val_loss: 0.8681 - val_categorical_accuracy: 0.5685\n",
            "Epoch 32/500\n",
            "22/22 [==============================] - ETA: 0s - loss: 2.1701 - categorical_accuracy: 0.4982\n",
            "Epoch 32: val_categorical_accuracy did not improve from 0.59767\n",
            "22/22 [==============================] - 7s 303ms/step - loss: 2.1701 - categorical_accuracy: 0.4982 - val_loss: 0.8229 - val_categorical_accuracy: 0.5860\n",
            "Epoch 33/500\n",
            "22/22 [==============================] - ETA: 0s - loss: 2.1289 - categorical_accuracy: 0.5383\n",
            "Epoch 33: val_categorical_accuracy did not improve from 0.59767\n",
            "22/22 [==============================] - 7s 306ms/step - loss: 2.1289 - categorical_accuracy: 0.5383 - val_loss: 0.8440 - val_categorical_accuracy: 0.5860\n",
            "Epoch 34/500\n",
            "22/22 [==============================] - ETA: 0s - loss: 2.1384 - categorical_accuracy: 0.5055\n",
            "Epoch 34: val_categorical_accuracy did not improve from 0.59767\n",
            "22/22 [==============================] - 7s 306ms/step - loss: 2.1384 - categorical_accuracy: 0.5055 - val_loss: 0.9346 - val_categorical_accuracy: 0.4985\n",
            "Epoch 35/500\n",
            "22/22 [==============================] - ETA: 0s - loss: 2.1195 - categorical_accuracy: 0.5150\n",
            "Epoch 35: val_categorical_accuracy did not improve from 0.59767\n",
            "22/22 [==============================] - 7s 305ms/step - loss: 2.1195 - categorical_accuracy: 0.5150 - val_loss: 0.8278 - val_categorical_accuracy: 0.5918\n",
            "Epoch 36/500\n",
            "22/22 [==============================] - ETA: 0s - loss: 2.1731 - categorical_accuracy: 0.4785\n",
            "Epoch 36: val_categorical_accuracy did not improve from 0.59767\n",
            "22/22 [==============================] - 7s 303ms/step - loss: 2.1731 - categorical_accuracy: 0.4785 - val_loss: 0.8530 - val_categorical_accuracy: 0.5714\n",
            "Epoch 37/500\n",
            "22/22 [==============================] - ETA: 0s - loss: 2.0856 - categorical_accuracy: 0.5055\n",
            "Epoch 37: val_categorical_accuracy did not improve from 0.59767\n",
            "22/22 [==============================] - 7s 304ms/step - loss: 2.0856 - categorical_accuracy: 0.5055 - val_loss: 0.8888 - val_categorical_accuracy: 0.5452\n",
            "Epoch 38/500\n",
            "22/22 [==============================] - ETA: 0s - loss: 2.1837 - categorical_accuracy: 0.4617\n",
            "Epoch 38: val_categorical_accuracy improved from 0.59767 to 0.60350, saving model to /tmp/checkpoint\n",
            "22/22 [==============================] - 8s 344ms/step - loss: 2.1837 - categorical_accuracy: 0.4617 - val_loss: 0.7865 - val_categorical_accuracy: 0.6035\n",
            "Epoch 39/500\n",
            "22/22 [==============================] - ETA: 0s - loss: 2.0919 - categorical_accuracy: 0.5295\n",
            "Epoch 39: val_categorical_accuracy improved from 0.60350 to 0.61516, saving model to /tmp/checkpoint\n",
            "22/22 [==============================] - 7s 341ms/step - loss: 2.0919 - categorical_accuracy: 0.5295 - val_loss: 0.8172 - val_categorical_accuracy: 0.6152\n",
            "Epoch 40/500\n",
            "22/22 [==============================] - ETA: 0s - loss: 2.0532 - categorical_accuracy: 0.5368\n",
            "Epoch 40: val_categorical_accuracy did not improve from 0.61516\n",
            "22/22 [==============================] - 8s 383ms/step - loss: 2.0532 - categorical_accuracy: 0.5368 - val_loss: 0.8085 - val_categorical_accuracy: 0.6064\n",
            "Epoch 41/500\n",
            "22/22 [==============================] - ETA: 0s - loss: 2.0447 - categorical_accuracy: 0.5390\n",
            "Epoch 41: val_categorical_accuracy did not improve from 0.61516\n",
            "22/22 [==============================] - 7s 329ms/step - loss: 2.0447 - categorical_accuracy: 0.5390 - val_loss: 0.8254 - val_categorical_accuracy: 0.5918\n",
            "Epoch 42/500\n",
            "22/22 [==============================] - ETA: 0s - loss: 2.0524 - categorical_accuracy: 0.5543\n",
            "Epoch 42: val_categorical_accuracy did not improve from 0.61516\n",
            "22/22 [==============================] - 7s 305ms/step - loss: 2.0524 - categorical_accuracy: 0.5543 - val_loss: 0.8305 - val_categorical_accuracy: 0.6093\n",
            "Epoch 43/500\n",
            "22/22 [==============================] - ETA: 0s - loss: 2.0934 - categorical_accuracy: 0.4931\n",
            "Epoch 43: val_categorical_accuracy improved from 0.61516 to 0.62099, saving model to /tmp/checkpoint\n",
            "22/22 [==============================] - 8s 345ms/step - loss: 2.0934 - categorical_accuracy: 0.4931 - val_loss: 0.7837 - val_categorical_accuracy: 0.6210\n",
            "Epoch 44/500\n",
            "22/22 [==============================] - ETA: 0s - loss: 2.0966 - categorical_accuracy: 0.5529\n",
            "Epoch 44: val_categorical_accuracy did not improve from 0.62099\n",
            "22/22 [==============================] - 7s 304ms/step - loss: 2.0966 - categorical_accuracy: 0.5529 - val_loss: 0.8363 - val_categorical_accuracy: 0.5743\n",
            "Epoch 45/500\n",
            "22/22 [==============================] - ETA: 0s - loss: 2.0678 - categorical_accuracy: 0.5288\n",
            "Epoch 45: val_categorical_accuracy improved from 0.62099 to 0.62391, saving model to /tmp/checkpoint\n",
            "22/22 [==============================] - 7s 341ms/step - loss: 2.0678 - categorical_accuracy: 0.5288 - val_loss: 0.7911 - val_categorical_accuracy: 0.6239\n",
            "Epoch 46/500\n",
            "22/22 [==============================] - ETA: 0s - loss: 2.0567 - categorical_accuracy: 0.5558\n",
            "Epoch 46: val_categorical_accuracy improved from 0.62391 to 0.63557, saving model to /tmp/checkpoint\n",
            "22/22 [==============================] - 7s 341ms/step - loss: 2.0567 - categorical_accuracy: 0.5558 - val_loss: 0.7761 - val_categorical_accuracy: 0.6356\n",
            "Epoch 47/500\n",
            "22/22 [==============================] - ETA: 0s - loss: 1.9987 - categorical_accuracy: 0.5529\n",
            "Epoch 47: val_categorical_accuracy did not improve from 0.63557\n",
            "22/22 [==============================] - 7s 304ms/step - loss: 1.9987 - categorical_accuracy: 0.5529 - val_loss: 0.7550 - val_categorical_accuracy: 0.6356\n",
            "Epoch 48/500\n",
            "22/22 [==============================] - ETA: 0s - loss: 2.0421 - categorical_accuracy: 0.5449\n",
            "Epoch 48: val_categorical_accuracy did not improve from 0.63557\n",
            "22/22 [==============================] - 7s 304ms/step - loss: 2.0421 - categorical_accuracy: 0.5449 - val_loss: 0.7686 - val_categorical_accuracy: 0.6152\n",
            "Epoch 49/500\n",
            "22/22 [==============================] - ETA: 0s - loss: 2.0351 - categorical_accuracy: 0.5631\n",
            "Epoch 49: val_categorical_accuracy did not improve from 0.63557\n",
            "22/22 [==============================] - 7s 328ms/step - loss: 2.0351 - categorical_accuracy: 0.5631 - val_loss: 0.8232 - val_categorical_accuracy: 0.5918\n",
            "Epoch 50/500\n",
            "22/22 [==============================] - ETA: 0s - loss: 2.1490 - categorical_accuracy: 0.4945\n",
            "Epoch 50: val_categorical_accuracy did not improve from 0.63557\n",
            "22/22 [==============================] - 7s 312ms/step - loss: 2.1490 - categorical_accuracy: 0.4945 - val_loss: 0.8644 - val_categorical_accuracy: 0.5394\n",
            "Epoch 51/500\n",
            "22/22 [==============================] - ETA: 0s - loss: 2.0976 - categorical_accuracy: 0.5376\n",
            "Epoch 51: val_categorical_accuracy did not improve from 0.63557\n",
            "22/22 [==============================] - 7s 307ms/step - loss: 2.0976 - categorical_accuracy: 0.5376 - val_loss: 0.8349 - val_categorical_accuracy: 0.5802\n",
            "Epoch 52/500\n",
            "22/22 [==============================] - ETA: 0s - loss: 2.0736 - categorical_accuracy: 0.5208\n",
            "Epoch 52: val_categorical_accuracy did not improve from 0.63557\n",
            "22/22 [==============================] - 7s 305ms/step - loss: 2.0736 - categorical_accuracy: 0.5208 - val_loss: 0.7997 - val_categorical_accuracy: 0.6006\n",
            "Epoch 53/500\n",
            "22/22 [==============================] - ETA: 0s - loss: 2.0789 - categorical_accuracy: 0.5047\n",
            "Epoch 53: val_categorical_accuracy did not improve from 0.63557\n",
            "22/22 [==============================] - 7s 305ms/step - loss: 2.0789 - categorical_accuracy: 0.5047 - val_loss: 0.8004 - val_categorical_accuracy: 0.6152\n",
            "Epoch 54/500\n",
            "22/22 [==============================] - ETA: 0s - loss: 1.9979 - categorical_accuracy: 0.5748\n",
            "Epoch 54: val_categorical_accuracy did not improve from 0.63557\n",
            "22/22 [==============================] - 7s 304ms/step - loss: 1.9979 - categorical_accuracy: 0.5748 - val_loss: 0.8443 - val_categorical_accuracy: 0.5918\n",
            "Epoch 55/500\n",
            "22/22 [==============================] - ETA: 0s - loss: 1.9839 - categorical_accuracy: 0.5383\n",
            "Epoch 55: val_categorical_accuracy did not improve from 0.63557\n",
            "22/22 [==============================] - 7s 304ms/step - loss: 1.9839 - categorical_accuracy: 0.5383 - val_loss: 0.7840 - val_categorical_accuracy: 0.6181\n",
            "Epoch 56/500\n",
            "22/22 [==============================] - ETA: 0s - loss: 1.9360 - categorical_accuracy: 0.5828\n",
            "Epoch 56: val_categorical_accuracy did not improve from 0.63557\n",
            "22/22 [==============================] - 7s 304ms/step - loss: 1.9360 - categorical_accuracy: 0.5828 - val_loss: 0.8559 - val_categorical_accuracy: 0.5889\n",
            "Epoch 57/500\n",
            "22/22 [==============================] - ETA: 0s - loss: 2.0151 - categorical_accuracy: 0.5310\n",
            "Epoch 57: val_categorical_accuracy did not improve from 0.63557\n",
            "22/22 [==============================] - 7s 305ms/step - loss: 2.0151 - categorical_accuracy: 0.5310 - val_loss: 0.7780 - val_categorical_accuracy: 0.6297\n"
          ]
        }
      ]
    },
    {
      "cell_type": "code",
      "source": [
        "# Load the weights with the best validation accuracy\n",
        "model.load_weights('/tmp/checkpoint')"
      ],
      "metadata": {
        "id": "IaJ-PtsLpCHD",
        "colab": {
          "base_uri": "https://localhost:8080/"
        },
        "outputId": "85e06d0d-7e96-4088-cea3-51c0827a81cd"
      },
      "execution_count": 31,
      "outputs": [
        {
          "output_type": "execute_result",
          "data": {
            "text/plain": [
              "<tensorflow.python.training.tracking.util.CheckpointLoadStatus at 0x7f08c02c01d0>"
            ]
          },
          "metadata": {},
          "execution_count": 31
        }
      ]
    },
    {
      "cell_type": "markdown",
      "source": [
        "We plot the graphs to obtain the training information."
      ],
      "metadata": {
        "id": "nclciFwh0HHR"
      }
    },
    {
      "cell_type": "code",
      "source": [
        "# summarize history for accuracy\n",
        "plt.plot(history.history['categorical_accuracy'])\n",
        "plt.plot(history.history['val_categorical_accuracy'])\n",
        "plt.title('model accuracy')\n",
        "plt.ylabel('accuracy')\n",
        "plt.xlabel('epoch')\n",
        "plt.legend(['train', 'valid'], loc='upper left')\n",
        "plt.show()\n",
        "# summarize history for loss\n",
        "plt.plot(history.history['loss'])\n",
        "plt.plot(history.history['val_loss'])\n",
        "plt.title('model loss')\n",
        "plt.ylabel('loss')\n",
        "plt.xlabel('epoch')\n",
        "plt.legend(['train', 'valid'], loc='upper left')\n",
        "plt.show()"
      ],
      "metadata": {
        "colab": {
          "base_uri": "https://localhost:8080/",
          "height": 573
        },
        "id": "0tgAv8urv5kx",
        "outputId": "0e7711e3-2898-4ab6-ea99-159c6c2f0f4f"
      },
      "execution_count": 32,
      "outputs": [
        {
          "output_type": "display_data",
          "data": {
            "text/plain": [
              "<Figure size 432x288 with 1 Axes>"
            ],
            "image/png": "[encoded data removed]"
          },
          "metadata": {
            "needs_background": "light"
          }
        },
        {
          "output_type": "display_data",
          "data": {
            "text/plain": [
              "<Figure size 432x288 with 1 Axes>"
            ],
            "image/png": "[encoded data removed]"
          },
          "metadata": {
            "needs_background": "light"
          }
        }
      ]
    },
    {
      "cell_type": "markdown",
      "source": [
        "## Evaluation of the model\n",
        "\n",
        "We evaluate the performance of the model"
      ],
      "metadata": {
        "id": "3xC_tyB9lCpp"
      }
    },
    {
      "cell_type": "code",
      "source": [
        "y_pred1 = model.predict(X_valid)\n",
        "y_pred = np.argmax(y_pred1, axis=1)"
      ],
      "metadata": {
        "colab": {
          "base_uri": "https://localhost:8080/"
        },
        "id": "EJw7LsMNtvgL",
        "outputId": "7436ba59-6d9d-428f-d288-230c8da343e2"
      },
      "execution_count": 33,
      "outputs": [
        {
          "output_type": "stream",
          "name": "stdout",
          "text": [
            "11/11 [==============================] - 1s 38ms/step\n"
          ]
        }
      ]
    },
    {
      "cell_type": "code",
      "source": [
        "# Print f1, precision, and recall scores\n",
        "print(f\"Precision score: {precision_score(y_valid, y_pred , average='macro')}\")\n",
        "print(f\"Recall score: {recall_score(y_valid, y_pred , average='macro')}\")\n",
        "print(f\"F1 score: {f1_score(y_valid, y_pred , average='macro')}\")"
      ],
      "metadata": {
        "colab": {
          "base_uri": "https://localhost:8080/"
        },
        "id": "ZdtqueU-n7fq",
        "outputId": "269300ab-291d-4a76-d6e4-4417881a4923"
      },
      "execution_count": 34,
      "outputs": [
        {
          "output_type": "stream",
          "name": "stdout",
          "text": [
            "Precision score: 0.5496923255543945\n",
            "Recall score: 0.5711264983992257\n",
            "F1 score: 0.5491332896410539\n"
          ]
        }
      ]
    },
    {
      "cell_type": "code",
      "source": [
        "print(classification_report(y_valid, y_pred))"
      ],
      "metadata": {
        "colab": {
          "base_uri": "https://localhost:8080/"
        },
        "id": "paJnXTuqonEu",
        "outputId": "52f9ad18-d111-4dec-9ff9-c3b969f4886b"
      },
      "execution_count": 35,
      "outputs": [
        {
          "output_type": "stream",
          "name": "stdout",
          "text": [
            "              precision    recall  f1-score   support\n",
            "\n",
            "           0       0.75      0.81      0.78       185\n",
            "           1       0.31      0.49      0.38        37\n",
            "           2       0.59      0.42      0.49       121\n",
            "\n",
            "    accuracy                           0.64       343\n",
            "   macro avg       0.55      0.57      0.55       343\n",
            "weighted avg       0.65      0.64      0.63       343\n",
            "\n"
          ]
        }
      ]
    },
    {
      "cell_type": "markdown",
      "source": [
        "## Predictions\n",
        "\n",
        "Finally, we perform the model predictions."
      ],
      "metadata": {
        "id": "4JjmZYN60qs-"
      }
    },
    {
      "cell_type": "code",
      "source": [
        "predictions_prob = model.predict(x_test)"
      ],
      "metadata": {
        "colab": {
          "base_uri": "https://localhost:8080/"
        },
        "id": "d-T2cq5z054-",
        "outputId": "90e553b2-f334-4cd4-bfea-3565bbb9a91f"
      },
      "execution_count": 36,
      "outputs": [
        {
          "output_type": "stream",
          "name": "stdout",
          "text": [
            "20/20 [==============================] - 1s 40ms/step\n"
          ]
        }
      ]
    },
    {
      "cell_type": "code",
      "source": [
        "predictions = np.argmax(predictions_prob, axis=1)"
      ],
      "metadata": {
        "id": "zA341hxv1DkP"
      },
      "execution_count": 37,
      "outputs": []
    },
    {
      "cell_type": "markdown",
      "source": [
        "We save the results in a json file"
      ],
      "metadata": {
        "id": "LqqBJpyC162i"
      }
    },
    {
      "cell_type": "code",
      "source": [
        "pred_df = pd.DataFrame(predictions, columns = ['target'])"
      ],
      "metadata": {
        "id": "X6XtmKhc1OVw"
      },
      "execution_count": 38,
      "outputs": []
    },
    {
      "cell_type": "code",
      "source": [
        "pred_df.to_json(r'predict.json', indent=4)\n"
      ],
      "metadata": {
        "id": "jgG-LxPW1cqe"
      },
      "execution_count": 39,
      "outputs": []
    },
    {
      "cell_type": "code",
      "source": [
        "pred_df"
      ],
      "metadata": {
        "colab": {
          "base_uri": "https://localhost:8080/",
          "height": 424
        },
        "id": "T3_JEtZs1bJp",
        "outputId": "dc7c78e7-fb0e-4855-b461-022799ccfc5b"
      },
      "execution_count": 40,
      "outputs": [
        {
          "output_type": "execute_result",
          "data": {
            "text/plain": [
              "     target\n",
              "0         0\n",
              "1         2\n",
              "2         0\n",
              "3         2\n",
              "4         1\n",
              "..      ...\n",
              "630       1\n",
              "631       1\n",
              "632       1\n",
              "633       0\n",
              "634       0\n",
              "\n",
              "[635 rows x 1 columns]"
            ],
            "text/html": [
              "\n",
              "  <div id=\"df-aefb5b0d-a809-4826-b3cd-dbd6243f90c4\">\n",
              "    <div class=\"colab-df-container\">\n",
              "      <div>\n",
              "<style scoped>\n",
              "    .dataframe tbody tr th:only-of-type {\n",
              "        vertical-align: middle;\n",
              "    }\n",
              "\n",
              "    .dataframe tbody tr th {\n",
              "        vertical-align: top;\n",
              "    }\n",
              "\n",
              "    .dataframe thead th {\n",
              "        text-align: right;\n",
              "    }\n",
              "</style>\n",
              "<table border=\"1\" class=\"dataframe\">\n",
              "  <thead>\n",
              "    <tr style=\"text-align: right;\">\n",
              "      <th></th>\n",
              "      <th>target</th>\n",
              "    </tr>\n",
              "  </thead>\n",
              "  <tbody>\n",
              "    <tr>\n",
              "      <th>0</th>\n",
              "      <td>0</td>\n",
              "    </tr>\n",
              "    <tr>\n",
              "      <th>1</th>\n",
              "      <td>2</td>\n",
              "    </tr>\n",
              "    <tr>\n",
              "      <th>2</th>\n",
              "      <td>0</td>\n",
              "    </tr>\n",
              "    <tr>\n",
              "      <th>3</th>\n",
              "      <td>2</td>\n",
              "    </tr>\n",
              "    <tr>\n",
              "      <th>4</th>\n",
              "      <td>1</td>\n",
              "    </tr>\n",
              "    <tr>\n",
              "      <th>...</th>\n",
              "      <td>...</td>\n",
              "    </tr>\n",
              "    <tr>\n",
              "      <th>630</th>\n",
              "      <td>1</td>\n",
              "    </tr>\n",
              "    <tr>\n",
              "      <th>631</th>\n",
              "      <td>1</td>\n",
              "    </tr>\n",
              "    <tr>\n",
              "      <th>632</th>\n",
              "      <td>1</td>\n",
              "    </tr>\n",
              "    <tr>\n",
              "      <th>633</th>\n",
              "      <td>0</td>\n",
              "    </tr>\n",
              "    <tr>\n",
              "      <th>634</th>\n",
              "      <td>0</td>\n",
              "    </tr>\n",
              "  </tbody>\n",
              "</table>\n",
              "<p>635 rows × 1 columns</p>\n",
              "</div>\n",
              "      <button class=\"colab-df-convert\" onclick=\"convertToInteractive('df-aefb5b0d-a809-4826-b3cd-dbd6243f90c4')\"\n",
              "              title=\"Convert this dataframe to an interactive table.\"\n",
              "              style=\"display:none;\">\n",
              "        \n",
              "  <svg xmlns=\"http://www.w3.org/2000/svg\" height=\"24px\"viewBox=\"0 0 24 24\"\n",
              "       width=\"24px\">\n",
              "    <path d=\"M0 0h24v24H0V0z\" fill=\"none\"/>\n",
              "    <path d=\"M18.56 5.44l.94 2.06.94-2.06 2.06-.94-2.06-.94-.94-2.06-.94 2.06-2.06.94zm-11 1L8.5 8.5l.94-2.06 2.06-.94-2.06-.94L8.5 2.5l-.94 2.06-2.06.94zm10 10l.94 2.06.94-2.06 2.06-.94-2.06-.94-.94-2.06-.94 2.06-2.06.94z\"/><path d=\"M17.41 7.96l-1.37-1.37c-.4-.4-.92-.59-1.43-.59-.52 0-1.04.2-1.43.59L10.3 9.45l-7.72 7.72c-.78.78-.78 2.05 0 2.83L4 21.41c.39.39.9.59 1.41.59.51 0 1.02-.2 1.41-.59l7.78-7.78 2.81-2.81c.8-.78.8-2.07 0-2.86zM5.41 20L4 18.59l7.72-7.72 1.47 1.35L5.41 20z\"/>\n",
              "  </svg>\n",
              "      </button>\n",
              "      \n",
              "  <style>\n",
              "    .colab-df-container {\n",
              "      display:flex;\n",
              "      flex-wrap:wrap;\n",
              "      gap: 12px;\n",
              "    }\n",
              "\n",
              "    .colab-df-convert {\n",
              "      background-color: #E8F0FE;\n",
              "      border: none;\n",
              "      border-radius: 50%;\n",
              "      cursor: pointer;\n",
              "      display: none;\n",
              "      fill: #1967D2;\n",
              "      height: 32px;\n",
              "      padding: 0 0 0 0;\n",
              "      width: 32px;\n",
              "    }\n",
              "\n",
              "    .colab-df-convert:hover {\n",
              "      background-color: #E2EBFA;\n",
              "      box-shadow: 0px 1px 2px rgba(60, 64, 67, 0.3), 0px 1px 3px 1px rgba(60, 64, 67, 0.15);\n",
              "      fill: #174EA6;\n",
              "    }\n",
              "\n",
              "    [theme=dark] .colab-df-convert {\n",
              "      background-color: #3B4455;\n",
              "      fill: #D2E3FC;\n",
              "    }\n",
              "\n",
              "    [theme=dark] .colab-df-convert:hover {\n",
              "      background-color: #434B5C;\n",
              "      box-shadow: 0px 1px 3px 1px rgba(0, 0, 0, 0.15);\n",
              "      filter: drop-shadow(0px 1px 2px rgba(0, 0, 0, 0.3));\n",
              "      fill: #FFFFFF;\n",
              "    }\n",
              "  </style>\n",
              "\n",
              "      <script>\n",
              "        const buttonEl =\n",
              "          document.querySelector('#df-aefb5b0d-a809-4826-b3cd-dbd6243f90c4 button.colab-df-convert');\n",
              "        buttonEl.style.display =\n",
              "          google.colab.kernel.accessAllowed ? 'block' : 'none';\n",
              "\n",
              "        async function convertToInteractive(key) {\n",
              "          const element = document.querySelector('#df-aefb5b0d-a809-4826-b3cd-dbd6243f90c4');\n",
              "          const dataTable =\n",
              "            await google.colab.kernel.invokeFunction('convertToInteractive',\n",
              "                                                     [key], {});\n",
              "          if (!dataTable) return;\n",
              "\n",
              "          const docLinkHtml = 'Like what you see? Visit the ' +\n",
              "            '<a target=\"_blank\" href=https://colab.research.google.com/notebooks/data_table.ipynb>data table notebook</a>'\n",
              "            + ' to learn more about interactive tables.';\n",
              "          element.innerHTML = '';\n",
              "          dataTable['output_type'] = 'display_data';\n",
              "          await google.colab.output.renderOutput(dataTable, element);\n",
              "          const docLink = document.createElement('div');\n",
              "          docLink.innerHTML = docLinkHtml;\n",
              "          element.appendChild(docLink);\n",
              "        }\n",
              "      </script>\n",
              "    </div>\n",
              "  </div>\n",
              "  "
            ]
          },
          "metadata": {},
          "execution_count": 40
        }
      ]
    },
    {
      "cell_type": "code",
      "source": [],
      "metadata": {
        "id": "AOHpjmLY1q_X"
      },
      "execution_count": 40,
      "outputs": []
    }
  ]
}